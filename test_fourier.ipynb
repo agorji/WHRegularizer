{
 "cells": [
  {
   "cell_type": "code",
   "execution_count": 1,
   "metadata": {},
   "outputs": [
    {
     "name": "stderr",
     "output_type": "stream",
     "text": [
      "/local/agorji/minconda3/envs/spectral/lib/python3.10/site-packages/tqdm/auto.py:22: TqdmWarning: IProgress not found. Please update jupyter and ipywidgets. See https://ipywidgets.readthedocs.io/en/stable/user_install.html\n",
      "  from .autonotebook import tqdm as notebook_tqdm\n"
     ]
    }
   ],
   "source": [
    "import torch\n",
    "import torch.nn as nn\n",
    "import torch.nn.functional as F\n",
    "from torch.utils.data import Dataset, DataLoader, random_split\n",
    "from sklearn.model_selection import train_test_split\n",
    "from itertools import product\n",
    "import math\n",
    "import random\n",
    "import matplotlib.pyplot as plt\n",
    "\n",
    "from utils import FourierDataset, ModelTrainer\n",
    "\n",
    "random_seed = 0\n",
    "torch.manual_seed(random_seed)\n",
    "random.seed(random_seed)"
   ]
  },
  {
   "cell_type": "markdown",
   "metadata": {},
   "source": [
    "# Test WH transform"
   ]
  },
  {
   "cell_type": "code",
   "execution_count": 4,
   "metadata": {},
   "outputs": [],
   "source": [
    "test_k = 15\n",
    "test_n = 15\n",
    "test_b = 8\n",
    "test_d = 4\n",
    "test_n_samples = 100\n",
    "\n",
    "test_ds = FourierDataset(n=test_n, k=test_k, d=test_d, n_samples=test_n_samples)"
   ]
  },
  {
   "cell_type": "code",
   "execution_count": 5,
   "metadata": {},
   "outputs": [
    {
     "name": "stdout",
     "output_type": "stream",
     "text": [
      "tensor(0.0220)\n",
      "tensor(0.2286)\n",
      "tensor(0.5526)\n"
     ]
    }
   ],
   "source": [
    "print(torch.sum(test_ds.amp_f**2)/2**test_b)\n",
    "print(torch.mean(test_ds.amp_f))\n",
    "print(torch.mean(torch.abs(test_ds.amp_f)))"
   ]
  },
  {
   "cell_type": "code",
   "execution_count": 6,
   "metadata": {},
   "outputs": [
    {
     "name": "stdout",
     "output_type": "stream",
     "text": [
      "tensor([[0., 0., 0.,  ..., 0., 0., 0.],\n",
      "        [1., 0., 0.,  ..., 1., 1., 0.],\n",
      "        [1., 1., 0.,  ..., 0., 1., 1.],\n",
      "        ...,\n",
      "        [1., 0., 1.,  ..., 0., 0., 0.],\n",
      "        [1., 1., 1.,  ..., 1., 0., 1.],\n",
      "        [0., 1., 1.,  ..., 0., 1., 1.]])\n",
      "tensor([[0., 0., 0., 1., 0., 0., 0., 0., 0., 0., 0., 0., 0., 1., 0.],\n",
      "        [0., 0., 0., 0., 1., 0., 0., 1., 0., 1., 0., 0., 1., 0., 0.],\n",
      "        [0., 1., 0., 0., 0., 1., 0., 0., 0., 1., 0., 0., 0., 0., 0.],\n",
      "        [0., 0., 0., 0., 0., 0., 0., 1., 0., 0., 0., 0., 0., 0., 0.],\n",
      "        [0., 0., 0., 1., 0., 0., 0., 0., 0., 0., 0., 0., 0., 1., 1.],\n",
      "        [0., 0., 0., 0., 0., 0., 0., 0., 0., 0., 0., 1., 0., 0., 0.],\n",
      "        [0., 1., 0., 1., 0., 0., 0., 0., 0., 0., 0., 1., 0., 0., 0.],\n",
      "        [0., 0., 1., 0., 0., 1., 0., 0., 0., 0., 0., 0., 1., 0., 0.],\n",
      "        [1., 1., 1., 0., 0., 0., 0., 0., 0., 0., 0., 0., 0., 1., 0.],\n",
      "        [1., 0., 0., 0., 0., 0., 0., 0., 0., 0., 0., 0., 0., 1., 0.],\n",
      "        [1., 0., 0., 0., 0., 0., 0., 0., 0., 0., 0., 0., 0., 0., 0.],\n",
      "        [0., 0., 0., 0., 0., 0., 0., 0., 0., 0., 1., 0., 0., 0., 0.],\n",
      "        [0., 0., 0., 0., 0., 0., 0., 0., 0., 1., 0., 0., 0., 1., 0.],\n",
      "        [0., 0., 0., 0., 0., 0., 1., 0., 0., 0., 0., 0., 0., 0., 0.],\n",
      "        [0., 0., 0., 0., 0., 1., 0., 0., 0., 0., 0., 0., 0., 0., 0.]])\n",
      "tensor([ 0.4835,  0.9036,  0.5948, -0.4141,  0.7767,  0.1282,  0.7342, -0.7815,\n",
      "        -0.2040, -0.9119,  0.5204,  0.2583,  0.7065, -0.1186,  0.7533])\n"
     ]
    },
    {
     "data": {
      "text/plain": [
       "[<matplotlib.lines.Line2D at 0x7f955eff40d0>]"
      ]
     },
     "execution_count": 6,
     "metadata": {},
     "output_type": "execute_result"
    },
    {
     "data": {
      "image/png": "[encoded data removed]",
      "text/plain": [
       "<Figure size 640x480 with 1 Axes>"
      ]
     },
     "metadata": {},
     "output_type": "display_data"
    }
   ],
   "source": [
    "def hadamard_matrix(n, normalize=False):\n",
    "    '''\n",
    "    Compute H_n, Hadamard matrix\n",
    "    '''\n",
    "    H1 = torch.asarray([[1.,1.], [1.,-1.]])\n",
    "    H = torch.asarray([1.])\n",
    "    for i in range(n):\n",
    "        H = torch.kron(H, H1)\n",
    "    if normalize:\n",
    "        H = (1 / math.sqrt(2**n)) * H\n",
    "    return H\n",
    "\n",
    "def get_sample_inputs(n, b):\n",
    "    hash_sigma = (torch.rand(b, n) < 0.5).float() # multivariate bernouli with p=0.5\n",
    "    hash_inputs = torch.asarray(list((product((0.0,1.0), repeat=b))))\n",
    "\n",
    "    sample_inputs = (hash_inputs @ hash_sigma) % 2\n",
    "    return sample_inputs\n",
    "\n",
    "# hadamard_matrix(3, normalize=False)\n",
    "\n",
    "sample_inputs = get_sample_inputs(test_n, test_b)\n",
    "print(sample_inputs)\n",
    "\n",
    "print(test_ds.freq_f)\n",
    "print(test_ds.amp_f)\n",
    "# all_inputs = torch.asarray(list((product((0.0,1.0), repeat=test_n))))\n",
    "all_inputs = sample_inputs\n",
    "\n",
    "landscape = test_ds.compute_y(all_inputs)\n",
    "# landscape = landscape[torch.randperm(landscape.shape[0])]\n",
    "H = hadamard_matrix(test_b, normalize=False)\n",
    "spectrum = H @ landscape\n",
    "\n",
    "plt.plot(list(range(2**test_b)), landscape.numpy())\n",
    "plt.plot(list(range(2**test_b)), spectrum.numpy())"
   ]
  },
  {
   "cell_type": "code",
   "execution_count": 7,
   "metadata": {},
   "outputs": [
    {
     "name": "stdout",
     "output_type": "stream",
     "text": [
      "tensor(0.5526)\n",
      "tensor(40.5181)\n"
     ]
    }
   ],
   "source": [
    "print(torch.mean(torch.abs(spectrum)))\n",
    "print(torch.sqrt(torch.sum(spectrum**2)))"
   ]
  },
  {
   "cell_type": "markdown",
   "metadata": {},
   "source": [
    "# Test Training Methods"
   ]
  },
  {
   "cell_type": "code",
   "execution_count": 2,
   "metadata": {},
   "outputs": [],
   "source": [
    "class FCN(nn.Module):\n",
    "    def __init__(self, n, multiplier=2, batch_norm=False):\n",
    "        super(FCN, self).__init__()\n",
    "        self.fc1 = nn.Linear(n, multiplier*n)\n",
    "        self.fc2 = nn.Linear(multiplier*n, multiplier*n)\n",
    "        self.fc3 = nn.Linear(multiplier*n, n)\n",
    "        self.fc4 = nn.Linear(n, 1)\n",
    "\n",
    "        torch.nn.init.xavier_uniform_(self.fc1.weight)\n",
    "        torch.nn.init.xavier_uniform_(self.fc2.weight)\n",
    "        torch.nn.init.xavier_uniform_(self.fc3.weight)\n",
    "        torch.nn.init.xavier_uniform_(self.fc4.weight)\n",
    "        \n",
    "        self.batch_norm = batch_norm\n",
    "        if self.batch_norm:\n",
    "            self.bn1 = nn.BatchNorm1d(multiplier*n)\n",
    "            self.bn2 = nn.BatchNorm1d(multiplier*n)\n",
    "            self.bn3 = nn.BatchNorm1d(n)\n",
    "\n",
    "    def forward(self, x):\n",
    "        if self.batch_norm:\n",
    "            x = self.bn1(F.leaky_relu(self.fc1(x)))\n",
    "            x = self.bn2(F.leaky_relu(self.fc2(x)))\n",
    "            x = self.bn3(F.leaky_relu(self.fc3(x)))\n",
    "            x = self.fc4(x)\n",
    "        else:\n",
    "            x = F.leaky_relu(self.fc1(x))\n",
    "            x = F.leaky_relu(self.fc2(x))\n",
    "            x = F.leaky_relu(self.fc3(x))\n",
    "            x = self.fc4(x)\n",
    "\n",
    "        return x.reshape(-1)"
   ]
  },
  {
   "cell_type": "code",
   "execution_count": 19,
   "metadata": {},
   "outputs": [],
   "source": [
    "n = 20\n",
    "k = 15\n",
    "d = 4\n",
    "c = 2\n",
    "n_samples = int(c * k * n * (4/3))\n",
    "dataset = FourierDataset(n, k, d=d, n_samples=n_samples)"
   ]
  },
  {
   "cell_type": "code",
   "execution_count": 20,
   "metadata": {},
   "outputs": [
    {
     "data": {
      "text/plain": [
       "tensor(0.0195)"
      ]
     },
     "execution_count": 20,
     "metadata": {},
     "output_type": "execute_result"
    }
   ],
   "source": [
    "torch.var(dataset.y)"
   ]
  },
  {
   "cell_type": "code",
   "execution_count": 24,
   "metadata": {},
   "outputs": [
    {
     "name": "stdout",
     "output_type": "stream",
     "text": [
      "#0 - Train Loss: 0.027, R2: -0.416\tValidation Loss: 0.022, R2: -0.051\n",
      "#1 - Train Loss: 0.016, R2: 0.138\tValidation Loss: 0.018, R2: 0.124\n",
      "#2 - Train Loss: 0.014, R2: 0.285\tValidation Loss: 0.017, R2: 0.164\n",
      "#3 - Train Loss: 0.013, R2: 0.339\tValidation Loss: 0.015, R2: 0.258\n",
      "#4 - Train Loss: 0.011, R2: 0.405\tValidation Loss: 0.015, R2: 0.286\n",
      "#5 - Train Loss: 0.010, R2: 0.475\tValidation Loss: 0.014, R2: 0.296\n",
      "#6 - Train Loss: 0.009, R2: 0.521\tValidation Loss: 0.015, R2: 0.271\n",
      "#7 - Train Loss: 0.008, R2: 0.575\tValidation Loss: 0.015, R2: 0.272\n",
      "#8 - Train Loss: 0.007, R2: 0.631\tValidation Loss: 0.015, R2: 0.282\n",
      "#9 - Train Loss: 0.006, R2: 0.673\tValidation Loss: 0.013, R2: 0.367\n",
      "#10 - Train Loss: 0.006, R2: 0.673\tValidation Loss: 0.016, R2: 0.241\n",
      "#11 - Train Loss: 0.006, R2: 0.664\tValidation Loss: 0.014, R2: 0.316\n",
      "#12 - Train Loss: 0.006, R2: 0.689\tValidation Loss: 0.013, R2: 0.366\n",
      "#13 - Train Loss: 0.005, R2: 0.747\tValidation Loss: 0.013, R2: 0.342\n",
      "#14 - Train Loss: 0.004, R2: 0.803\tValidation Loss: 0.013, R2: 0.351\n",
      "#15 - Train Loss: 0.004, R2: 0.814\tValidation Loss: 0.014, R2: 0.313\n",
      "#16 - Train Loss: 0.003, R2: 0.840\tValidation Loss: 0.014, R2: 0.292\n",
      "#17 - Train Loss: 0.003, R2: 0.819\tValidation Loss: 0.014, R2: 0.328\n",
      "#18 - Train Loss: 0.003, R2: 0.856\tValidation Loss: 0.013, R2: 0.356\n",
      "#19 - Train Loss: 0.002, R2: 0.880\tValidation Loss: 0.015, R2: 0.252\n",
      "#20 - Train Loss: 0.002, R2: 0.875\tValidation Loss: 0.014, R2: 0.308\n",
      "#21 - Train Loss: 0.002, R2: 0.875\tValidation Loss: 0.016, R2: 0.199\n",
      "#22 - Train Loss: 0.002, R2: 0.877\tValidation Loss: 0.014, R2: 0.323\n",
      "#23 - Train Loss: 0.002, R2: 0.909\tValidation Loss: 0.014, R2: 0.311\n",
      "#24 - Train Loss: 0.002, R2: 0.919\tValidation Loss: 0.015, R2: 0.244\n",
      "#25 - Train Loss: 0.001, R2: 0.928\tValidation Loss: 0.015, R2: 0.276\n",
      "#26 - Train Loss: 0.001, R2: 0.938\tValidation Loss: 0.015, R2: 0.286\n",
      "#27 - Train Loss: 0.001, R2: 0.939\tValidation Loss: 0.015, R2: 0.243\n",
      "#28 - Train Loss: 0.001, R2: 0.931\tValidation Loss: 0.015, R2: 0.274\n",
      "#29 - Train Loss: 0.001, R2: 0.933\tValidation Loss: 0.015, R2: 0.263\n",
      "#30 - Train Loss: 0.001, R2: 0.935\tValidation Loss: 0.015, R2: 0.285\n",
      "#31 - Train Loss: 0.001, R2: 0.942\tValidation Loss: 0.014, R2: 0.300\n",
      "#32 - Train Loss: 0.001, R2: 0.951\tValidation Loss: 0.015, R2: 0.250\n",
      "#33 - Train Loss: 0.001, R2: 0.958\tValidation Loss: 0.015, R2: 0.273\n",
      "#34 - Train Loss: 0.001, R2: 0.959\tValidation Loss: 0.015, R2: 0.271\n",
      "#35 - Train Loss: 0.001, R2: 0.958\tValidation Loss: 0.015, R2: 0.275\n",
      "#36 - Train Loss: 0.001, R2: 0.961\tValidation Loss: 0.016, R2: 0.231\n",
      "#37 - Train Loss: 0.001, R2: 0.956\tValidation Loss: 0.015, R2: 0.255\n",
      "#38 - Train Loss: 0.001, R2: 0.965\tValidation Loss: 0.016, R2: 0.231\n",
      "#39 - Train Loss: 0.001, R2: 0.965\tValidation Loss: 0.015, R2: 0.257\n",
      "#40 - Train Loss: 0.001, R2: 0.956\tValidation Loss: 0.018, R2: 0.130\n",
      "#41 - Train Loss: 0.001, R2: 0.945\tValidation Loss: 0.015, R2: 0.246\n",
      "#42 - Train Loss: 0.001, R2: 0.944\tValidation Loss: 0.016, R2: 0.207\n",
      "#43 - Train Loss: 0.001, R2: 0.954\tValidation Loss: 0.016, R2: 0.215\n",
      "#44 - Train Loss: 0.001, R2: 0.954\tValidation Loss: 0.015, R2: 0.252\n",
      "#45 - Train Loss: 0.001, R2: 0.959\tValidation Loss: 0.014, R2: 0.308\n",
      "#46 - Train Loss: 0.001, R2: 0.956\tValidation Loss: 0.015, R2: 0.247\n",
      "#47 - Train Loss: 0.001, R2: 0.953\tValidation Loss: 0.017, R2: 0.189\n",
      "#48 - Train Loss: 0.001, R2: 0.958\tValidation Loss: 0.015, R2: 0.250\n",
      "#49 - Train Loss: 0.001, R2: 0.961\tValidation Loss: 0.015, R2: 0.264\n"
     ]
    }
   ],
   "source": [
    "torch.manual_seed(random_seed)\n",
    "\n",
    "train_config = {\n",
    "    \"training_method\": \"hashing\",\n",
    "    \"add_hadamard_loss\": True, \n",
    "    \"SPRIGHT_m\": 4,\n",
    "    \"SPRIGHT_d\": 3,\n",
    "    \"rho\": 0.1,\n",
    "    \"b\": 4,\n",
    "    \"lr\": 1e-2, \n",
    "    \"weight_decay\": 0, \n",
    "    \"hadamard_lambda\": 0.001,\n",
    "    \"num_epochs\": 50,\n",
    "    \"batch_size\": 64,\n",
    "}\n",
    "\n",
    "in_dim = dataset.X.shape[1]\n",
    "model = FCN(in_dim, 2)\n",
    "trainer = ModelTrainer(model, dataset, train_config)\n",
    "log = trainer.train_model()"
   ]
  },
  {
   "cell_type": "markdown",
   "metadata": {},
   "source": [
    "## Test hashing"
   ]
  },
  {
   "cell_type": "code",
   "execution_count": 64,
   "metadata": {},
   "outputs": [
    {
     "name": "stderr",
     "output_type": "stream",
     "text": [
      "/tmp/ipykernel_3656978/3025935720.py:25: UserWarning: To copy construct from a tensor, it is recommended to use sourceTensor.clone().detach() or sourceTensor.clone().detach().requires_grad_(True), rather than torch.tensor(sourceTensor).\n",
      "  mask = torch.sum(hash_rev == torch.tensor(hash_inputs[i, :]), axis=-1) == b\n"
     ]
    },
    {
     "name": "stdout",
     "output_type": "stream",
     "text": [
      "tensor([[1., 0., 1., 1., 0., 0.],\n",
      "        [1., 1., 0., 0., 0., 0.],\n",
      "        [1., 0., 0., 1., 1., 1.],\n",
      "        [1., 1., 0., 0., 1., 1.],\n",
      "        [0., 1., 1., 0., 1., 1.],\n",
      "        [1., 1., 1., 1., 1., 1.],\n",
      "        [1., 0., 0., 1., 0., 0.],\n",
      "        [1., 1., 0., 0., 0., 0.],\n",
      "        [1., 0., 0., 1., 0., 0.],\n",
      "        [0., 1., 0., 0., 1., 0.],\n",
      "        [1., 0., 0., 1., 1., 1.],\n",
      "        [1., 0., 0., 1., 0., 0.],\n",
      "        [0., 1., 0., 0., 0., 1.],\n",
      "        [0., 1., 1., 0., 0., 1.],\n",
      "        [1., 1., 0., 1., 0., 0.],\n",
      "        [0., 1., 1., 0., 0., 1.],\n",
      "        [0., 1., 1., 1., 0., 0.],\n",
      "        [0., 1., 0., 0., 0., 0.],\n",
      "        [0., 0., 1., 1., 0., 0.],\n",
      "        [0., 0., 1., 0., 1., 1.],\n",
      "        [1., 1., 1., 1., 1., 0.],\n",
      "        [1., 1., 0., 1., 0., 1.],\n",
      "        [1., 0., 1., 1., 0., 1.],\n",
      "        [1., 1., 0., 1., 0., 1.],\n",
      "        [0., 0., 0., 0., 0., 0.],\n",
      "        [0., 0., 1., 1., 1., 0.],\n",
      "        [0., 0., 1., 0., 1., 0.],\n",
      "        [1., 0., 0., 1., 1., 0.],\n",
      "        [1., 0., 1., 1., 1., 0.],\n",
      "        [0., 1., 0., 1., 1., 0.],\n",
      "        [1., 0., 1., 0., 0., 0.],\n",
      "        [1., 1., 0., 1., 1., 1.],\n",
      "        [0., 1., 0., 0., 0., 0.],\n",
      "        [1., 1., 1., 1., 0., 1.],\n",
      "        [0., 1., 1., 1., 0., 1.],\n",
      "        [0., 0., 1., 0., 0., 0.],\n",
      "        [0., 1., 1., 1., 1., 0.],\n",
      "        [0., 0., 1., 1., 1., 0.],\n",
      "        [0., 0., 1., 0., 1., 0.],\n",
      "        [1., 1., 0., 1., 0., 1.],\n",
      "        [0., 0., 1., 0., 1., 1.],\n",
      "        [0., 1., 0., 1., 0., 0.],\n",
      "        [0., 1., 0., 0., 0., 0.],\n",
      "        [1., 0., 0., 0., 0., 0.],\n",
      "        [0., 0., 1., 1., 0., 1.],\n",
      "        [0., 1., 0., 1., 0., 1.],\n",
      "        [0., 0., 1., 1., 0., 1.],\n",
      "        [0., 0., 1., 1., 0., 1.],\n",
      "        [1., 0., 1., 0., 1., 0.],\n",
      "        [1., 0., 0., 1., 0., 0.]])\n",
      "torch.Size([50, 6])\n",
      "tensor([ 0.0360,  0.0000,  0.0000,  0.0000,  0.0000,  0.0000,  0.0000,  0.0000,\n",
      "         0.6102,  0.0000,  0.7356, -1.1124,  0.7227,  0.7290,  1.1934,  0.0000,\n",
      "         0.5722, -0.5891, -0.7891,  0.0000, -0.8610,  0.5186, -0.9815,  0.0000,\n",
      "         0.0000, -1.4521,  0.0000, -0.3968,  0.0937, -0.2562, -0.4272,  0.0000,\n",
      "        -0.5921,  0.0000,  0.0000,  0.0000,  0.2318,  0.0000,  0.5675,  0.4460,\n",
      "         0.2400,  0.0000,  0.7744,  0.0000,  0.4026, -0.7101,  0.3848,  0.0000,\n",
      "        -0.0482,  0.0000,  0.0000,  0.7652, -0.1353, -1.6248,  0.0000,  0.3556,\n",
      "         0.0000,  0.0000,  0.0000,  0.0000,  0.0000, -0.6042,  0.9001,  0.9824])\n",
      "tensor([ 3.5993e-02,  1.1642e-08, -8.7311e-08, -4.6566e-08,  1.1642e-08,\n",
      "         4.0745e-08, -4.6566e-08,  1.7462e-08,  6.1023e-01,  0.0000e+00,\n",
      "         7.3555e-01, -1.1124e+00,  7.2265e-01,  7.2897e-01,  1.1934e+00,\n",
      "         0.0000e+00,  5.7225e-01, -5.8906e-01, -7.8911e-01, -6.9849e-08,\n",
      "        -8.6102e-01,  5.1864e-01, -9.8146e-01,  6.9849e-08,  5.8208e-08,\n",
      "        -1.4521e+00, -5.8208e-08, -3.9676e-01,  9.3668e-02, -2.5621e-01,\n",
      "        -4.2723e-01,  2.3283e-08, -5.9213e-01, -2.3283e-08, -2.3283e-08,\n",
      "         2.3283e-08,  2.3175e-01, -6.9849e-08,  5.6747e-01,  4.4602e-01,\n",
      "         2.4004e-01,  1.1642e-08,  7.7444e-01,  1.1642e-08,  4.0258e-01,\n",
      "        -7.1006e-01,  3.8475e-01,  2.3283e-08, -4.8205e-02, -6.9849e-08,\n",
      "        -9.3132e-08,  7.6523e-01, -1.3529e-01, -1.6248e+00,  0.0000e+00,\n",
      "         3.5557e-01,  0.0000e+00,  1.1642e-08, -4.6566e-08,  1.1642e-08,\n",
      "         9.3132e-08, -6.0421e-01,  9.0012e-01,  9.8239e-01])\n"
     ]
    },
    {
     "data": {
      "text/plain": [
       "<BarContainer object of 64 artists>"
      ]
     },
     "execution_count": 64,
     "metadata": {},
     "output_type": "execute_result"
    },
    {
     "data": {
      "image/png": "[encoded data removed]",
      "text/plain": [
       "<Figure size 640x480 with 1 Axes>"
      ]
     },
     "metadata": {},
     "output_type": "display_data"
    }
   ],
   "source": [
    "import copy\n",
    "\n",
    "n = 12\n",
    "k = 50\n",
    "d = 5\n",
    "\n",
    "main_signal = FourierDataset(n, k, d=d)\n",
    "original_inputs = torch.asarray(list((product((0.0,1.0), repeat=n))))\n",
    "\n",
    "# for b in range(2, n):\n",
    "b = 6\n",
    "H = hadamard_matrix(b, normalize=True)\n",
    "\n",
    "# Hash\n",
    "hash_sigma = (torch.rand(n, b) < 0.5).float() # multivariate bernouli with p=0.5\n",
    "hash_inputs = torch.asarray(list((product((0.0,1.0), repeat=b))))\n",
    "sample_inputs = hash_inputs @ torch.t(hash_sigma)\n",
    "hash_landscape = main_signal.compute_y(sample_inputs)\n",
    "hash_spectrum = (H @ hash_landscape) / ((2**(b/2))/k)\n",
    "\n",
    "hash_rev = (main_signal.freq_f @ hash_sigma) % 2 # (sigma^t @ inputs^t)^t\n",
    "hash_amps = torch.zeros(2**b)\n",
    "hash_count = torch.zeros(2**b)\n",
    "for i in range(2**b):\n",
    "    mask = torch.sum(hash_rev == torch.tensor(hash_inputs[i, :]), axis=-1) == b\n",
    "    hash_amps[i] = torch.sum(main_signal.amp_f[mask])\n",
    "    hash_count[i] = torch.sum(mask)\n",
    "print(hash_rev)\n",
    "print(hash_rev.shape)\n",
    "print(hash_amps)\n",
    "print(hash_spectrum)\n",
    "plt.plot(list(range(2**b)), hash_amps.numpy())\n",
    "plt.plot(list(range(2**b)), hash_spectrum.numpy())\n",
    "plt.bar(list(range(2**b)), hash_count.numpy())\n",
    "\n",
    "\n",
    "# hashed_freqs = H @ main_signal.compute_y(sample_inputs)\n",
    "\n",
    "    "
   ]
  },
  {
   "cell_type": "code",
   "execution_count": null,
   "metadata": {},
   "outputs": [],
   "source": []
  }
 ],
 "metadata": {
  "kernelspec": {
   "display_name": "Python 3.10.6 ('spectral')",
   "language": "python",
   "name": "python3"
  },
  "language_info": {
   "codemirror_mode": {
    "name": "ipython",
    "version": 3
   },
   "file_extension": ".py",
   "mimetype": "text/x-python",
   "name": "python",
   "nbconvert_exporter": "python",
   "pygments_lexer": "ipython3",
   "version": "3.10.6"
  },
  "orig_nbformat": 4,
  "vscode": {
   "interpreter": {
    "hash": "01d0f036a9d1bb5c37264df6cfdc4735c8bdfa2b68474f95afe9c6e9e6a644c3"
   }
  }
 },
 "nbformat": 4,
 "nbformat_minor": 2
}
