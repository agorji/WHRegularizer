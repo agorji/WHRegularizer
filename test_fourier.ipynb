{
 "cells": [
  {
   "cell_type": "code",
   "execution_count": 1,
   "metadata": {},
   "outputs": [],
   "source": [
    "import torch\n",
    "import torch.nn as nn\n",
    "import torch.nn.functional as F\n",
    "from torch.utils.data import Dataset, DataLoader, random_split\n",
    "from sklearn.model_selection import train_test_split\n",
    "from itertools import product\n",
    "import math\n",
    "import random\n",
    "import matplotlib.pyplot as plt\n",
    "\n",
    "random_seed = 0\n",
    "torch.manual_seed(random_seed)\n",
    "random.seed(random_seed)"
   ]
  },
  {
   "cell_type": "markdown",
   "metadata": {},
   "source": [
    "# Prepare dummy data"
   ]
  },
  {
   "cell_type": "code",
   "execution_count": 2,
   "metadata": {},
   "outputs": [],
   "source": [
    "class FourierDataset(Dataset):\n",
    "    def __init__(self, n, k, generation_method=\"uniform_deg\", d=None, p_freq=None, n_samples = 100, p_in=0.5):\n",
    "        self.n = n\n",
    "        self.k = k\n",
    "\n",
    "        if generation_method == \"uniform_deg\":\n",
    "            self.freq_f = self.uniform_deg_freq(d)\n",
    "        elif generation_method == \"bernouli\":\n",
    "            self.freq_f = self.bernouli_freq(p_freq)\n",
    "        elif generation_method == \"bounded_deg\":\n",
    "            self.freq_f = self.bounded_degree_freq(d)\n",
    "        else:\n",
    "            raise Exception(f'\"{generation_method}\" is not a generation method for FourierDataset.')\n",
    "\n",
    "        self.amp_f = torch.FloatTensor(k).uniform_(-1, 1)\n",
    "\n",
    "        self.X = (torch.rand(n_samples, n) < p_in).float()\n",
    "        self.y = self.compute_y(self.X)\n",
    "\n",
    "    def __len__(self):\n",
    "        return len(self.X)\n",
    "\n",
    "    def __getitem__(self, i):\n",
    "        return self.X[i], self.y[i]\n",
    "\n",
    "    def compute_y(self, X):\n",
    "        in_dot_f = X @ torch.t(self.freq_f)\n",
    "        return torch.sum(torch.where(in_dot_f % 2 == 1, -1, 1) * self.amp_f, axis = -1) / 2**(self.n/2)\n",
    "    \n",
    "    def bounded_degree_freq(self, d):\n",
    "        freqs = torch.zeros(self.k, self.n)\n",
    "        one_indices = [(i, random.randrange(self.n)) for j in range(d) for i in range(self.k)]\n",
    "        freqs[list(zip(*one_indices))] = 1.0\n",
    "        return freqs\n",
    "\n",
    "    def bernouli_freq(self, p):\n",
    "        return (torch.rand(self.k, self.n) < p).float()\n",
    "\n",
    "    def uniform_deg_freq(self, d):\n",
    "        freqs = torch.zeros(self.k, self.n)\n",
    "        one_rows, one_cols = [], []\n",
    "        for i in range(self.k):\n",
    "            deg = random.randint(1, d)\n",
    "            one_rows.extend([i]*deg)\n",
    "            one_cols.extend(random.sample(range(self.n), deg))\n",
    "        freqs[one_rows, one_cols] = 1.0\n",
    "        return freqs\n",
    "\n",
    "p_freq = 0.2\n",
    "d = 4\n",
    "\n",
    "n = 50\n",
    "k = 40\n",
    "B = 10\n",
    "# freq_f = bernouli_freq(n, k, p_freq)\n",
    "# # freq_f = bounded_degree_freq(n, k, d)\n",
    "# amp_f = torch.rand(k).float()\n",
    "\n",
    "dataset = FourierDataset(n, k, d=d, n_samples=1000)\n",
    "test_ds = FourierDataset(n=10, k=10, d=4, n_samples=100)"
   ]
  },
  {
   "cell_type": "code",
   "execution_count": 9,
   "metadata": {},
   "outputs": [
    {
     "name": "stdout",
     "output_type": "stream",
     "text": [
      "tensor([[0., 1., 0., 0., 0., 0., 0., 0., 0., 1.],\n",
      "        [1., 1., 0., 0., 0., 1., 0., 0., 0., 1.],\n",
      "        [0., 0., 0., 1., 0., 0., 0., 0., 0., 0.],\n",
      "        [0., 1., 0., 0., 0., 0., 0., 1., 0., 0.],\n",
      "        [1., 0., 0., 0., 0., 0., 0., 0., 0., 1.],\n",
      "        [1., 1., 0., 0., 1., 0., 0., 0., 0., 1.],\n",
      "        [0., 1., 0., 0., 1., 0., 0., 0., 0., 0.],\n",
      "        [1., 0., 1., 0., 0., 0., 1., 0., 0., 0.],\n",
      "        [1., 1., 0., 0., 0., 0., 1., 0., 1., 0.],\n",
      "        [0., 0., 1., 0., 0., 1., 0., 1., 0., 0.]])\n",
      "tensor([ 0.0876,  0.7197,  0.2393,  0.5120, -0.2003,  0.5092, -0.0877, -0.1442,\n",
      "        -0.7691, -0.3046])\n"
     ]
    },
    {
     "data": {
      "text/plain": [
       "[<matplotlib.lines.Line2D at 0x7f45d57b9b10>]"
      ]
     },
     "execution_count": 9,
     "metadata": {},
     "output_type": "execute_result"
    },
    {
     "data": {
      "image/png": "[encoded data removed]",
      "text/plain": [
       "<Figure size 640x480 with 1 Axes>"
      ]
     },
     "metadata": {},
     "output_type": "display_data"
    }
   ],
   "source": [
    "def hadamard_matrix(n, normalize=False):\n",
    "    '''\n",
    "    Compute H_n, Hadamard matrix\n",
    "    '''\n",
    "    H1 = torch.asarray([[1.,1.], [1.,-1.]])\n",
    "    H = torch.asarray([1.])\n",
    "    for i in range(n):\n",
    "        H = torch.kron(H, H1)\n",
    "    if normalize:\n",
    "        H = (1 / math.sqrt(2**n)) * H\n",
    "    return H\n",
    "\n",
    "# hadamard_matrix(3, normalize=False)\n",
    "\n",
    "print(test_ds.freq_f)\n",
    "print(test_ds.amp_f)\n",
    "all_inputs = torch.asarray(list((product((0.0,1.0), repeat=10))))\n",
    "landscape = test_ds.compute_y(all_inputs)\n",
    "# landscape = landscape[torch.randperm(landscape.shape[0])]\n",
    "H = hadamard_matrix(10, normalize=True)\n",
    "spectrum = H @ landscape\n",
    "plt.plot(list(range(2**10)), landscape.numpy())\n",
    "plt.plot(list(range(2**10)), spectrum.numpy())"
   ]
  },
  {
   "cell_type": "markdown",
   "metadata": {},
   "source": [
    "# Train Model"
   ]
  },
  {
   "cell_type": "code",
   "execution_count": 10,
   "metadata": {},
   "outputs": [],
   "source": [
    "class FCN(nn.Module):\n",
    "    def __init__(self, n, multiplier=2, batch_norm=False):\n",
    "        super(FCN, self).__init__()\n",
    "        self.fc1 = nn.Linear(n, multiplier*n)\n",
    "        self.fc2 = nn.Linear(multiplier*n, multiplier*n)\n",
    "        self.fc3 = nn.Linear(multiplier*n, n)\n",
    "        self.fc4 = nn.Linear(n, 1)\n",
    "\n",
    "        torch.nn.init.xavier_uniform_(self.fc1.weight)\n",
    "        torch.nn.init.xavier_uniform_(self.fc2.weight)\n",
    "        torch.nn.init.xavier_uniform_(self.fc3.weight)\n",
    "        torch.nn.init.xavier_uniform_(self.fc4.weight)\n",
    "        \n",
    "        self.batch_norm = batch_norm\n",
    "        if self.batch_norm:\n",
    "            self.bn1 = nn.BatchNorm1d(multiplier*n)\n",
    "            self.bn2 = nn.BatchNorm1d(multiplier*n)\n",
    "            self.bn3 = nn.BatchNorm1d(n)\n",
    "\n",
    "    def forward(self, x):\n",
    "        if self.batch_norm:\n",
    "            x = self.bn1(F.leaky_relu(self.fc1(x)))\n",
    "            x = self.bn2(F.leaky_relu(self.fc2(x)))\n",
    "            x = self.bn3(F.leaky_relu(self.fc3(x)))\n",
    "            x = self.fc4(x)\n",
    "        else:\n",
    "            x = F.leaky_relu(self.fc1(x))\n",
    "            x = F.leaky_relu(self.fc2(x))\n",
    "            x = F.leaky_relu(self.fc3(x))\n",
    "            x = self.fc4(x)\n",
    "\n",
    "        return x.reshape(-1)"
   ]
  },
  {
   "cell_type": "code",
   "execution_count": 22,
   "metadata": {},
   "outputs": [],
   "source": [
    "def get_sample_inputs(n, b):\n",
    "    hash_sigma = (torch.rand(b, n) < 0.5).float() # multivariate bernouli with p=0.5\n",
    "    hash_inputs = torch.asarray(list((product((0.0,1.0), repeat=b))))\n",
    "\n",
    "    sample_inputs = hash_inputs @ hash_sigma\n",
    "    return sample_inputs\n",
    "\n",
    "    \n",
    "def train_normal_model(model, train_loader, val_loader, config, device=\"cuda\"):\n",
    "    if config[\"add_hadamard_loss\"]:\n",
    "        H = hadamard_matrix(config[\"b\"], normalize=True).to(device)\n",
    "        n = next(iter(val_loader))[0].shape[1] # original space dimension\n",
    "\n",
    "    logs = []\n",
    "    model.to(device)\n",
    "    optim = torch.optim.Adam(model.parameters(), lr=config[\"lr\"], weight_decay=config[\"weight_decay\"])\n",
    "    for epoch in range(config[\"num_epochs\"]):\n",
    "        model.train()\n",
    "        batch_train_loss, batch_hadamard_loss = [], []\n",
    "        log = {}\n",
    "        for X, y in train_loader:\n",
    "            optim.zero_grad()\n",
    "            X, y = X.to(device), y.to(device)\n",
    "            y_hat = model(X)\n",
    "            loss = F.mse_loss(y, y_hat)\n",
    "            batch_train_loss.append(loss)\n",
    "\n",
    "            if config[\"add_hadamard_loss\"]:\n",
    "                # Find the sample inputs using the hashing scheme\n",
    "                sample_inputs = get_sample_inputs(n, config[\"b\"])\n",
    "                sample_inputs = sample_inputs.to(device)\n",
    "\n",
    "                # Compute the Hadamard transform of sample_inputs and add to loss\n",
    "                X = model(sample_inputs)\n",
    "                Y = H @ X\n",
    "\n",
    "                hadamard_loss = F.l1_loss(Y, torch.zeros_like(Y))\n",
    "                batch_hadamard_loss.append(hadamard_loss)\n",
    "                loss += config[\"hadamard_lambda\"] * hadamard_loss\n",
    "\n",
    "            loss.backward()\n",
    "            optim.step()\n",
    "\n",
    "        model.eval()\n",
    "        with torch.no_grad():\n",
    "            val_loss = 0\n",
    "            for X, y in val_loader:\n",
    "                X, y = X.to(device), y.to(device)\n",
    "                y_hat = model(X)\n",
    "                val_loss += F.mse_loss(y, y_hat).item()\n",
    "            val_loss /= len(val_loader)\n",
    "            print(f\"#{epoch} - Validation Loss: {val_loss:.3f}\")\n",
    "        \n",
    "        logs.append({\n",
    "            'val_loss': val_loss,\n",
    "            'train_loss': torch.mean(torch.stack(batch_train_loss)).item(),\n",
    "            'hadamard_loss': -1.0 if len(batch_hadamard_loss) == 0 else torch.mean(torch.stack(batch_hadamard_loss)).item(),\n",
    "        })\n",
    "    return logs"
   ]
  },
  {
   "cell_type": "code",
   "execution_count": 30,
   "metadata": {},
   "outputs": [],
   "source": [
    "p_test = 0.25\n",
    "batch_size = 64\n",
    "\n",
    "test_size = int(p_test * len(dataset))\n",
    "train_ds, val_ds = random_split(dataset, lengths=[len(dataset) - test_size, test_size])\n",
    "\n",
    "train_loader = DataLoader(train_ds, batch_size=batch_size, shuffle=True)\n",
    "val_loader = DataLoader(val_ds, batch_size=batch_size, shuffle=True)"
   ]
  },
  {
   "cell_type": "code",
   "execution_count": 31,
   "metadata": {},
   "outputs": [
    {
     "name": "stdout",
     "output_type": "stream",
     "text": [
      "#0 - Validation Loss: 0.017\n",
      "#1 - Validation Loss: 0.006\n",
      "#2 - Validation Loss: 0.004\n",
      "#3 - Validation Loss: 0.002\n",
      "#4 - Validation Loss: 0.002\n",
      "#5 - Validation Loss: 0.001\n",
      "#6 - Validation Loss: 0.001\n",
      "#7 - Validation Loss: 0.001\n",
      "#8 - Validation Loss: 0.001\n",
      "#9 - Validation Loss: 0.001\n",
      "#10 - Validation Loss: 0.001\n",
      "#11 - Validation Loss: 0.001\n",
      "#12 - Validation Loss: 0.000\n",
      "#13 - Validation Loss: 0.000\n",
      "#14 - Validation Loss: 0.000\n",
      "#15 - Validation Loss: 0.000\n",
      "#16 - Validation Loss: 0.000\n",
      "#17 - Validation Loss: 0.000\n",
      "#18 - Validation Loss: 0.000\n",
      "#19 - Validation Loss: 0.000\n"
     ]
    }
   ],
   "source": [
    "torch.manual_seed(random_seed)\n",
    "\n",
    "train_config = {\n",
    "    \"add_hadamard_loss\": True, \n",
    "    \"b\": 8,\n",
    "    \"lr\": 1e-3, \n",
    "    \"weight_decay\": 0.0, \n",
    "    \"hadamard_lambda\": 0.5, \n",
    "    \"num_epochs\": 20,\n",
    "    \"batch_size\": batch_size,\n",
    "}\n",
    "\n",
    "\n",
    "in_dim = dataset.X.shape[1]\n",
    "model = FCN(in_dim, 2)\n",
    "logs = train_normal_model(model, train_loader, val_loader, config=train_config)"
   ]
  },
  {
   "cell_type": "code",
   "execution_count": 27,
   "metadata": {},
   "outputs": [
    {
     "data": {
      "text/plain": [
       "[{'val_loss': 0.01564370235428214,\n",
       "  'train_loss': 0.1253940910100937,\n",
       "  'hadamard_loss': 0.132624089717865},\n",
       " {'val_loss': 0.006901248823851347,\n",
       "  'train_loss': 0.045595478266477585,\n",
       "  'hadamard_loss': 0.07218015193939209},\n",
       " {'val_loss': 0.004442087607458234,\n",
       "  'train_loss': 0.03215628117322922,\n",
       "  'hadamard_loss': 0.05519683659076691},\n",
       " {'val_loss': 0.0031907708034850657,\n",
       "  'train_loss': 0.024886703118681908,\n",
       "  'hadamard_loss': 0.04341784119606018},\n",
       " {'val_loss': 0.002246401651063934,\n",
       "  'train_loss': 0.020796380937099457,\n",
       "  'hadamard_loss': 0.03771182894706726},\n",
       " {'val_loss': 0.0018197019526269287,\n",
       "  'train_loss': 0.018477145582437515,\n",
       "  'hadamard_loss': 0.03384948521852493},\n",
       " {'val_loss': 0.0014635519473813474,\n",
       "  'train_loss': 0.016377177089452744,\n",
       "  'hadamard_loss': 0.03016410768032074},\n",
       " {'val_loss': 0.0015034509415272623,\n",
       "  'train_loss': 0.014350557699799538,\n",
       "  'hadamard_loss': 0.0262770876288414},\n",
       " {'val_loss': 0.0009648349514463916,\n",
       "  'train_loss': 0.01245182752609253,\n",
       "  'hadamard_loss': 0.02310652658343315},\n",
       " {'val_loss': 0.0007811869727447629,\n",
       "  'train_loss': 0.009984048083424568,\n",
       "  'hadamard_loss': 0.018677985295653343},\n",
       " {'val_loss': 0.0006516767898574471,\n",
       "  'train_loss': 0.009594043716788292,\n",
       "  'hadamard_loss': 0.017977137118577957},\n",
       " {'val_loss': 0.0006283421971602365,\n",
       "  'train_loss': 0.009060095995664597,\n",
       "  'hadamard_loss': 0.016801079735159874},\n",
       " {'val_loss': 0.0006427362823160365,\n",
       "  'train_loss': 0.0069824992679059505,\n",
       "  'hadamard_loss': 0.012871211394667625},\n",
       " {'val_loss': 0.0003761495972867124,\n",
       "  'train_loss': 0.0065355668775737286,\n",
       "  'hadamard_loss': 0.012336048297584057},\n",
       " {'val_loss': 0.00042748085979837924,\n",
       "  'train_loss': 0.004991999827325344,\n",
       "  'hadamard_loss': 0.009429522790014744},\n",
       " {'val_loss': 0.0002731204658630304,\n",
       "  'train_loss': 0.005196435377001762,\n",
       "  'hadamard_loss': 0.009803533554077148},\n",
       " {'val_loss': 0.00021590104734059423,\n",
       "  'train_loss': 0.0038929933216422796,\n",
       "  'hadamard_loss': 0.0073962463065981865},\n",
       " {'val_loss': 0.0001606607620487921,\n",
       "  'train_loss': 0.003328153397887945,\n",
       "  'hadamard_loss': 0.006380087696015835},\n",
       " {'val_loss': 0.00017761553317541257,\n",
       "  'train_loss': 0.002866797149181366,\n",
       "  'hadamard_loss': 0.005507790949195623},\n",
       " {'val_loss': 0.00014770430425414816,\n",
       "  'train_loss': 0.0025290471967309713,\n",
       "  'hadamard_loss': 0.004842202179133892}]"
      ]
     },
     "execution_count": 27,
     "metadata": {},
     "output_type": "execute_result"
    }
   ],
   "source": [
    "logs"
   ]
  },
  {
   "cell_type": "markdown",
   "metadata": {},
   "source": [
    "## Test hashing"
   ]
  },
  {
   "cell_type": "code",
   "execution_count": null,
   "metadata": {},
   "outputs": [],
   "source": [
    "import copy\n",
    "\n",
    "n = 14\n",
    "k = 10\n",
    "d = 4\n",
    "\n",
    "main_signal = FourierDataset(n, k, d=d)\n",
    "\n",
    "for b in range(2, n):\n",
    "    H = hadamard_matrix(b, normalize=True)\n",
    "    sample_inputs = get_sample_inputs(n, b)\n",
    "    hashed_freqs = H @ main_signal.compute_y(sample_inputs)\n",
    "    # Plot\n",
    "    plt.figure(b)\n",
    "    plt.plot(list(range(2**b)), landscape.numpy())\n",
    "    "
   ]
  }
 ],
 "metadata": {
  "kernelspec": {
   "display_name": "Python 3.10.4 ('spectral': conda)",
   "language": "python",
   "name": "python3"
  },
  "language_info": {
   "codemirror_mode": {
    "name": "ipython",
    "version": 3
   },
   "file_extension": ".py",
   "mimetype": "text/x-python",
   "name": "python",
   "nbconvert_exporter": "python",
   "pygments_lexer": "ipython3",
   "version": "3.10.4"
  },
  "orig_nbformat": 4,
  "vscode": {
   "interpreter": {
    "hash": "ae8ac3eae005231d5b632bb0de8b890cbaeda7eada65c9940d612361913045ea"
   }
  }
 },
 "nbformat": 4,
 "nbformat_minor": 2
}
