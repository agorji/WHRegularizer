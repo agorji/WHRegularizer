{
 "cells": [
  {
   "cell_type": "code",
   "execution_count": 2,
   "metadata": {},
   "outputs": [
    {
     "name": "stderr",
     "output_type": "stream",
     "text": [
      "/local/agorji/minconda3/envs/spectral/lib/python3.10/site-packages/tqdm/auto.py:22: TqdmWarning: IProgress not found. Please update jupyter and ipywidgets. See https://ipywidgets.readthedocs.io/en/stable/user_install.html\n",
      "  from .autonotebook import tqdm as notebook_tqdm\n"
     ]
    }
   ],
   "source": [
    "import torch\n",
    "import torch.nn as nn\n",
    "import torch.nn.functional as F\n",
    "from torch.utils.data import Dataset, DataLoader, random_split\n",
    "\n",
    "from sklearn.model_selection import train_test_split\n",
    "from itertools import product\n",
    "import math\n",
    "import random\n",
    "import matplotlib.pyplot as plt\n",
    "\n",
    "from utils import FourierDataset, ModelTrainer\n",
    "\n",
    "random_seed = 0\n",
    "torch.manual_seed(random_seed)\n",
    "random.seed(random_seed)"
   ]
  },
  {
   "cell_type": "markdown",
   "metadata": {},
   "source": [
    "# Test WH transform"
   ]
  },
  {
   "cell_type": "code",
   "execution_count": 152,
   "metadata": {},
   "outputs": [],
   "source": [
    "test_k = 10\n",
    "test_n = 100\n",
    "test_b = 8\n",
    "test_d = 5\n",
    "test_n_samples = 100\n",
    "\n",
    "test_ds = FourierDataset(n=test_n, k=test_k, d=test_d, n_samples=test_n_samples)"
   ]
  },
  {
   "cell_type": "code",
   "execution_count": 153,
   "metadata": {},
   "outputs": [
    {
     "name": "stdout",
     "output_type": "stream",
     "text": [
      "tensor(0.0139)\n",
      "tensor(0.0324)\n",
      "tensor(0.5456)\n",
      "tensor(0.5133)\n",
      "tensor(-0.0208)\n",
      "tensor([-0.2913, -0.0081, -0.2635, -0.2320, -0.0660, -0.3493, -0.2274, -0.0472,\n",
      "         0.1585, -0.1915, -0.3323,  0.0477,  0.0250,  0.1130, -0.0913, -0.4174,\n",
      "        -0.2759, -0.2635, -0.1998, -0.0226, -0.2320,  0.1327, -0.0584, -0.2135,\n",
      "         0.0679,  0.3728, -0.1269,  0.1154,  0.0470, -0.1635, -0.0601,  0.0031,\n",
      "         0.1966,  0.2596,  0.3459,  0.1964,  0.0089,  0.0348,  0.0413, -0.1585,\n",
      "        -0.1154,  0.0696, -0.1816, -0.0722,  0.0486,  0.0922, -0.0122, -0.1785,\n",
      "        -0.5223,  0.2312, -0.0493,  0.0291, -0.2215,  0.1509,  0.2642, -0.0152,\n",
      "         0.1286,  0.0363, -0.2165, -0.0883,  0.0541,  0.1116,  0.1276,  0.1276,\n",
      "         0.0348, -0.0226, -0.1181,  0.1352,  0.0729, -0.1051, -0.0591,  0.0356,\n",
      "         0.2408, -0.2846,  0.2829,  0.1562, -0.3866,  0.1058, -0.1030,  0.4188,\n",
      "         0.1254,  0.0152,  0.1204, -0.1585, -0.0906,  0.1101,  0.0186, -0.2508,\n",
      "         0.1741, -0.2820,  0.1284, -0.0637, -0.0083, -0.1037, -0.2693, -0.0719,\n",
      "         0.2005,  0.1154, -0.0356,  0.1674])\n"
     ]
    }
   ],
   "source": [
    "print(torch.sum(test_ds.amp_f**2)/2**test_b)\n",
    "print(torch.mean(test_ds.amp_f))\n",
    "print(torch.mean(torch.abs(test_ds.amp_f)))\n",
    "print(torch.std(test_ds.y * test_k / torch.sum(torch.abs(test_ds.amp_f)**2)))\n",
    "print(torch.mean(test_ds.y))\n",
    "print(test_ds.y)"
   ]
  },
  {
   "cell_type": "code",
   "execution_count": 154,
   "metadata": {},
   "outputs": [
    {
     "name": "stdout",
     "output_type": "stream",
     "text": [
      "tensor([[0., 0., 0.,  ..., 0., 0., 0.],\n",
      "        [1., 1., 0.,  ..., 0., 0., 0.],\n",
      "        [1., 0., 0.,  ..., 0., 0., 1.],\n",
      "        ...,\n",
      "        [0., 1., 1.,  ..., 1., 1., 0.],\n",
      "        [0., 0., 1.,  ..., 1., 1., 1.],\n",
      "        [1., 1., 1.,  ..., 1., 1., 1.]])\n",
      "tensor([[0., 0., 0., 0., 0., 0., 0., 0., 0., 0., 0., 1., 0., 0., 0., 0., 0., 0.,\n",
      "         0., 0., 0., 1., 0., 0., 0., 0., 0., 0., 0., 0., 0., 0., 0., 0., 0., 0.,\n",
      "         0., 0., 0., 0., 0., 0., 0., 0., 0., 0., 0., 0., 0., 0., 0., 0., 0., 0.,\n",
      "         0., 0., 0., 0., 0., 0., 0., 0., 0., 0., 0., 0., 0., 0., 0., 0., 0., 1.,\n",
      "         0., 0., 0., 0., 0., 0., 0., 0., 0., 0., 0., 0., 0., 0., 0., 0., 0., 0.,\n",
      "         0., 0., 0., 0., 0., 0., 0., 0., 0., 0.],\n",
      "        [1., 0., 0., 0., 0., 0., 0., 0., 0., 0., 0., 0., 0., 0., 0., 0., 0., 0.,\n",
      "         0., 0., 0., 0., 0., 0., 0., 0., 0., 0., 0., 0., 0., 0., 0., 0., 0., 0.,\n",
      "         0., 0., 0., 0., 0., 0., 0., 0., 0., 0., 0., 0., 0., 0., 0., 0., 0., 0.,\n",
      "         0., 0., 0., 0., 1., 0., 0., 0., 0., 0., 0., 0., 0., 0., 0., 0., 0., 0.,\n",
      "         0., 0., 0., 0., 0., 0., 0., 1., 0., 0., 0., 0., 0., 0., 0., 0., 0., 0.,\n",
      "         0., 0., 0., 0., 0., 0., 0., 0., 0., 0.],\n",
      "        [0., 0., 0., 0., 0., 0., 0., 0., 0., 0., 0., 0., 0., 0., 0., 0., 0., 0.,\n",
      "         1., 0., 0., 0., 0., 0., 0., 0., 0., 0., 0., 0., 0., 0., 0., 0., 0., 0.,\n",
      "         0., 0., 0., 0., 0., 0., 0., 0., 0., 0., 0., 0., 0., 0., 0., 0., 0., 0.,\n",
      "         0., 0., 0., 0., 0., 0., 0., 0., 0., 0., 0., 0., 0., 0., 0., 0., 0., 0.,\n",
      "         0., 0., 0., 0., 0., 0., 0., 0., 0., 0., 0., 0., 0., 0., 0., 0., 0., 0.,\n",
      "         0., 0., 0., 0., 1., 0., 0., 0., 0., 0.],\n",
      "        [0., 0., 0., 0., 0., 0., 0., 0., 0., 0., 0., 0., 0., 0., 0., 0., 0., 0.,\n",
      "         0., 0., 0., 0., 0., 0., 0., 0., 0., 0., 0., 0., 0., 0., 0., 0., 0., 0.,\n",
      "         0., 0., 0., 0., 0., 0., 0., 1., 0., 0., 0., 0., 0., 0., 0., 0., 0., 0.,\n",
      "         0., 0., 0., 0., 1., 0., 0., 0., 0., 0., 0., 0., 0., 0., 0., 0., 0., 0.,\n",
      "         1., 0., 0., 0., 0., 0., 0., 0., 0., 0., 0., 0., 0., 0., 0., 1., 0., 0.,\n",
      "         0., 0., 0., 0., 0., 1., 0., 0., 0., 0.],\n",
      "        [0., 0., 0., 0., 0., 0., 0., 0., 0., 0., 0., 0., 0., 0., 0., 0., 0., 0.,\n",
      "         0., 0., 0., 0., 0., 0., 0., 0., 0., 0., 0., 0., 0., 0., 0., 0., 0., 0.,\n",
      "         0., 0., 0., 0., 0., 0., 0., 0., 0., 0., 0., 0., 0., 1., 0., 0., 0., 0.,\n",
      "         0., 0., 0., 0., 0., 0., 0., 0., 0., 0., 0., 0., 0., 0., 0., 0., 0., 0.,\n",
      "         0., 0., 0., 0., 0., 0., 0., 0., 0., 0., 0., 0., 0., 0., 0., 0., 0., 0.,\n",
      "         0., 0., 0., 0., 0., 0., 0., 0., 0., 0.],\n",
      "        [0., 0., 0., 1., 0., 0., 0., 0., 0., 0., 0., 0., 0., 0., 0., 0., 0., 0.,\n",
      "         0., 0., 0., 0., 0., 0., 0., 0., 0., 0., 0., 0., 0., 0., 0., 0., 0., 0.,\n",
      "         1., 0., 0., 0., 0., 0., 0., 0., 0., 0., 0., 0., 0., 0., 0., 0., 0., 0.,\n",
      "         0., 0., 0., 0., 0., 1., 0., 0., 0., 0., 0., 0., 0., 0., 0., 0., 0., 0.,\n",
      "         0., 0., 0., 0., 0., 0., 0., 0., 0., 0., 0., 0., 0., 0., 0., 0., 0., 0.,\n",
      "         0., 0., 0., 0., 0., 0., 0., 0., 0., 0.],\n",
      "        [0., 0., 0., 1., 0., 0., 0., 0., 0., 0., 0., 0., 0., 0., 1., 0., 1., 0.,\n",
      "         0., 0., 0., 0., 0., 0., 0., 0., 0., 0., 0., 0., 0., 0., 0., 0., 0., 0.,\n",
      "         0., 0., 0., 0., 0., 0., 0., 0., 0., 0., 0., 0., 0., 0., 0., 0., 0., 0.,\n",
      "         0., 0., 0., 0., 1., 0., 0., 0., 0., 0., 0., 0., 0., 0., 0., 0., 0., 0.,\n",
      "         0., 0., 0., 0., 0., 0., 0., 0., 0., 0., 0., 0., 0., 0., 0., 0., 0., 0.,\n",
      "         0., 0., 0., 0., 0., 0., 0., 0., 0., 0.],\n",
      "        [0., 0., 0., 0., 0., 0., 0., 0., 0., 0., 0., 0., 0., 0., 0., 0., 0., 0.,\n",
      "         0., 0., 0., 0., 0., 0., 0., 0., 0., 0., 0., 0., 0., 0., 0., 0., 0., 0.,\n",
      "         0., 0., 1., 0., 0., 0., 1., 0., 0., 0., 0., 0., 0., 0., 0., 0., 0., 0.,\n",
      "         0., 0., 0., 0., 0., 0., 0., 0., 0., 0., 0., 0., 0., 0., 0., 0., 0., 0.,\n",
      "         0., 0., 0., 0., 0., 1., 0., 0., 0., 0., 0., 0., 0., 0., 0., 0., 0., 0.,\n",
      "         0., 0., 0., 0., 0., 0., 0., 0., 0., 0.],\n",
      "        [0., 0., 0., 0., 0., 0., 0., 0., 0., 0., 0., 0., 0., 0., 0., 0., 0., 0.,\n",
      "         0., 0., 0., 0., 0., 0., 0., 0., 0., 0., 0., 0., 0., 0., 0., 0., 0., 0.,\n",
      "         0., 0., 0., 0., 0., 0., 0., 0., 0., 0., 0., 0., 0., 0., 0., 0., 0., 0.,\n",
      "         0., 0., 1., 0., 0., 0., 0., 0., 1., 0., 0., 0., 0., 0., 0., 0., 0., 0.,\n",
      "         0., 0., 0., 0., 0., 0., 0., 0., 0., 0., 0., 0., 0., 0., 0., 0., 0., 0.,\n",
      "         0., 0., 0., 0., 0., 0., 0., 0., 0., 0.],\n",
      "        [0., 0., 0., 0., 0., 0., 0., 0., 0., 0., 0., 0., 0., 0., 0., 0., 0., 0.,\n",
      "         0., 0., 0., 0., 0., 0., 0., 0., 0., 0., 0., 0., 0., 0., 0., 0., 0., 0.,\n",
      "         0., 0., 0., 0., 0., 0., 0., 0., 0., 0., 0., 0., 0., 0., 0., 0., 0., 0.,\n",
      "         0., 0., 0., 0., 0., 0., 0., 0., 0., 0., 0., 0., 0., 0., 0., 0., 0., 0.,\n",
      "         0., 0., 0., 0., 0., 1., 0., 0., 0., 0., 0., 0., 0., 0., 0., 0., 0., 0.,\n",
      "         0., 0., 0., 0., 0., 0., 0., 0., 0., 0.]])\n",
      "tensor([ 0.8247, -0.1607, -0.3635,  0.7474, -0.5863,  0.6354, -0.6343, -0.8212,\n",
      "         0.5660,  0.1169])\n"
     ]
    },
    {
     "data": {
      "text/plain": [
       "[<matplotlib.lines.Line2D at 0x7f4c4c0937f0>]"
      ]
     },
     "execution_count": 154,
     "metadata": {},
     "output_type": "execute_result"
    },
    {
     "data": {
      "image/png": "[encoded data removed]",
      "text/plain": [
       "<Figure size 640x480 with 1 Axes>"
      ]
     },
     "metadata": {},
     "output_type": "display_data"
    }
   ],
   "source": [
    "def hadamard_matrix(n, normalize=False):\n",
    "    '''\n",
    "    Compute H_n, Hadamard matrix\n",
    "    '''\n",
    "    H1 = torch.asarray([[1.,1.], [1.,-1.]])\n",
    "    H = torch.asarray([1.])\n",
    "    for i in range(n):\n",
    "        H = torch.kron(H, H1)\n",
    "    if normalize:\n",
    "        H = (1 / math.sqrt(2**n)) * H\n",
    "    return H\n",
    "\n",
    "def get_sample_inputs(n, b):\n",
    "    hash_sigma = (torch.rand(b, n) < 0.5).float() # multivariate bernouli with p=0.5\n",
    "    hash_inputs = torch.asarray(list((product((0.0,1.0), repeat=b))))\n",
    "\n",
    "    sample_inputs = (hash_inputs @ hash_sigma) % 2\n",
    "    return sample_inputs\n",
    "\n",
    "# hadamard_matrix(3, normalize=False)\n",
    "\n",
    "sample_inputs = get_sample_inputs(test_n, test_b)\n",
    "print(sample_inputs)\n",
    "\n",
    "print(test_ds.freq_f)\n",
    "print(test_ds.amp_f)\n",
    "# all_inputs = torch.asarray(list((product((0.0,1.0), repeat=test_n))))\n",
    "all_inputs = sample_inputs\n",
    "\n",
    "landscape = test_ds.compute_y(all_inputs)\n",
    "# landscape = landscape[torch.randperm(landscape.shape[0])]\n",
    "H = hadamard_matrix(test_b, normalize=False)\n",
    "spectrum = H @ landscape\n",
    "\n",
    "plt.plot(list(range(2**test_b)), landscape.numpy())\n",
    "plt.plot(list(range(2**test_b)), spectrum.numpy())"
   ]
  },
  {
   "cell_type": "code",
   "execution_count": 155,
   "metadata": {},
   "outputs": [
    {
     "name": "stdout",
     "output_type": "stream",
     "text": [
      "[tensor(-21.0217), tensor(-16.2390), tensor(-15.0083), tensor(-9.3047), tensor(-4.1145), tensor(2.9935), tensor(14.4906), tensor(16.2652), tensor(19.1347), tensor(21.1113)]\n",
      "[tensor(-21.0217), tensor(-16.2390), tensor(-15.0083), tensor(-9.3047), tensor(-4.1145), tensor(2.9935), tensor(14.4906), tensor(16.2652), tensor(19.1347), tensor(21.1113)]\n",
      "tensor(8.3071)\n",
      "tensor(8.3071)\n",
      "tensor(0.5456)\n",
      "tensor(13.9684)\n"
     ]
    }
   ],
   "source": [
    "print(sorted(spectrum[np.abs(spectrum) > 1e-5]))\n",
    "print(sorted(test_ds.amp_f / test_k * 2**test_b))\n",
    "print(torch.sum(spectrum[np.abs(spectrum) > 1e-5]))\n",
    "print(torch.sum(test_ds.amp_f / test_k * 2**test_b))\n",
    "print(torch.mean(torch.abs(spectrum)))\n",
    "print(torch.mean(torch.abs(test_ds.amp_f / test_k * 2**test_b)))"
   ]
  },
  {
   "cell_type": "markdown",
   "metadata": {},
   "source": [
    "# Test Training Methods"
   ]
  },
  {
   "cell_type": "code",
   "execution_count": 4,
   "metadata": {},
   "outputs": [
    {
     "name": "stdout",
     "output_type": "stream",
     "text": [
      "torch.Size([66666, 100])\n",
      "tensor([ 0.0836,  0.0121,  0.0086,  ...,  0.0310,  0.0391, -0.0200])\n"
     ]
    }
   ],
   "source": [
    "n = 100\n",
    "k = 100\n",
    "d = 20\n",
    "c = 5\n",
    "n_samples = int(c * k * n * (4/3))\n",
    "dataset = FourierDataset(n, k, d=d, n_samples=n_samples)\n",
    "print(dataset.X.shape)\n",
    "print(dataset.y)"
   ]
  },
  {
   "cell_type": "code",
   "execution_count": 5,
   "metadata": {},
   "outputs": [],
   "source": [
    "class FCN(nn.Module):\n",
    "    def __init__(self, n, multiplier=2, batch_norm=False):\n",
    "        super(FCN, self).__init__()\n",
    "        self.fc1 = nn.Linear(n, multiplier*n)\n",
    "        self.fc2 = nn.Linear(multiplier*n, multiplier*n)\n",
    "        self.fc3 = nn.Linear(multiplier*n, n)\n",
    "        self.fc4 = nn.Linear(n, 1)\n",
    "\n",
    "        torch.nn.init.xavier_uniform_(self.fc1.weight)\n",
    "        torch.nn.init.xavier_uniform_(self.fc2.weight)\n",
    "        torch.nn.init.xavier_uniform_(self.fc3.weight)\n",
    "        torch.nn.init.xavier_uniform_(self.fc4.weight)\n",
    "        \n",
    "        self.batch_norm = batch_norm\n",
    "        if self.batch_norm:\n",
    "            self.bn1 = nn.BatchNorm1d(multiplier*n)\n",
    "            self.bn2 = nn.BatchNorm1d(multiplier*n)\n",
    "            self.bn3 = nn.BatchNorm1d(n)\n",
    "\n",
    "    def forward(self, x):\n",
    "        if self.batch_norm:\n",
    "            x = self.bn1(F.leaky_relu(self.fc1(x)))\n",
    "            x = self.bn2(F.leaky_relu(self.fc2(x)))\n",
    "            x = self.bn3(F.leaky_relu(self.fc3(x)))\n",
    "            x = self.fc4(x)\n",
    "        else:\n",
    "            x = F.leaky_relu(self.fc1(x))\n",
    "            x = F.leaky_relu(self.fc2(x))\n",
    "            x = F.leaky_relu(self.fc3(x))\n",
    "            x = self.fc4(x)\n",
    "\n",
    "        return x.reshape(-1)"
   ]
  },
  {
   "cell_type": "code",
   "execution_count": 7,
   "metadata": {},
   "outputs": [
    {
     "name": "stdout",
     "output_type": "stream",
     "text": [
      "#0 - Train Loss: 3.364, R2: -907.630\tValidation Loss: 0.177, R2: -46.572\n",
      "#1 - Train Loss: 0.040, R2: -9.932\tValidation Loss: 0.009, R2: -1.408\n",
      "#2 - Train Loss: 0.005, R2: -0.466\tValidation Loss: 0.004, R2: -0.081\n",
      "#3 - Train Loss: 0.004, R2: -0.059\tValidation Loss: 0.004, R2: -0.041\n",
      "#4 - Train Loss: 0.004, R2: -0.055\tValidation Loss: 0.004, R2: -0.028\n",
      "#5 - Train Loss: 0.004, R2: -0.050\tValidation Loss: 0.004, R2: -0.045\n",
      "#6 - Train Loss: 0.004, R2: -0.066\tValidation Loss: 0.005, R2: -0.241\n",
      "#7 - Train Loss: 0.004, R2: -0.120\tValidation Loss: 0.004, R2: -0.098\n",
      "#8 - Train Loss: 0.004, R2: -0.084\tValidation Loss: 0.004, R2: -0.140\n"
     ]
    },
    {
     "ename": "KeyboardInterrupt",
     "evalue": "",
     "output_type": "error",
     "traceback": [
      "\u001b[0;31m---------------------------------------------------------------------------\u001b[0m",
      "\u001b[0;31mKeyboardInterrupt\u001b[0m                         Traceback (most recent call last)",
      "\u001b[1;32m/home/agorji/spectral_regularizer/test_fourier.ipynb Cell 10\u001b[0m in \u001b[0;36m<cell line: 23>\u001b[0;34m()\u001b[0m\n\u001b[1;32m     <a href='vscode-notebook-cell://ssh-remote%2Bmatroid2.inf.ethz.ch/home/agorji/spectral_regularizer/test_fourier.ipynb#X12sdnNjb2RlLXJlbW90ZQ%3D%3D?line=20'>21</a>\u001b[0m model \u001b[39m=\u001b[39m FCN(in_dim, \u001b[39m10\u001b[39m, batch_norm\u001b[39m=\u001b[39m\u001b[39mTrue\u001b[39;00m)\n\u001b[1;32m     <a href='vscode-notebook-cell://ssh-remote%2Bmatroid2.inf.ethz.ch/home/agorji/spectral_regularizer/test_fourier.ipynb#X12sdnNjb2RlLXJlbW90ZQ%3D%3D?line=21'>22</a>\u001b[0m trainer \u001b[39m=\u001b[39m ModelTrainer(model, dataset, train_config, plot_results\u001b[39m=\u001b[39m\u001b[39mTrue\u001b[39;00m)\n\u001b[0;32m---> <a href='vscode-notebook-cell://ssh-remote%2Bmatroid2.inf.ethz.ch/home/agorji/spectral_regularizer/test_fourier.ipynb#X12sdnNjb2RlLXJlbW90ZQ%3D%3D?line=22'>23</a>\u001b[0m log \u001b[39m=\u001b[39m trainer\u001b[39m.\u001b[39;49mtrain_model()\n",
      "File \u001b[0;32m~/spectral_regularizer/utils.py:193\u001b[0m, in \u001b[0;36mModelTrainer.train_model\u001b[0;34m(self)\u001b[0m\n\u001b[1;32m    190\u001b[0m \u001b[39mfor\u001b[39;00m epoch \u001b[39min\u001b[39;00m \u001b[39mrange\u001b[39m(\u001b[39mself\u001b[39m\u001b[39m.\u001b[39mconfig[\u001b[39m\"\u001b[39m\u001b[39mnum_epochs\u001b[39m\u001b[39m\"\u001b[39m]):\n\u001b[1;32m    191\u001b[0m     \u001b[39m# Train epoch based on the set training method\u001b[39;00m\n\u001b[1;32m    192\u001b[0m     \u001b[39mself\u001b[39m\u001b[39m.\u001b[39mmodel\u001b[39m.\u001b[39mtrain()\n\u001b[0;32m--> 193\u001b[0m     RSS, epoch_log \u001b[39m=\u001b[39m \u001b[39mself\u001b[39;49m\u001b[39m.\u001b[39;49mtrain_epoch()\n\u001b[1;32m    194\u001b[0m     epoch_log[\u001b[39m\"\u001b[39m\u001b[39mtrain_mse_loss\u001b[39m\u001b[39m\"\u001b[39m] \u001b[39m=\u001b[39m RSS \u001b[39m/\u001b[39m \u001b[39mself\u001b[39m\u001b[39m.\u001b[39mtrain_size\n\u001b[1;32m    195\u001b[0m     epoch_log[\u001b[39m\"\u001b[39m\u001b[39mtrain_r2\u001b[39m\u001b[39m\"\u001b[39m] \u001b[39m=\u001b[39m \u001b[39m1\u001b[39m \u001b[39m-\u001b[39m RSS \u001b[39m/\u001b[39m \u001b[39mself\u001b[39m\u001b[39m.\u001b[39mtrain_tss\n",
      "File \u001b[0;32m~/spectral_regularizer/utils.py:268\u001b[0m, in \u001b[0;36mModelTrainer.hashing_epoch\u001b[0;34m(self)\u001b[0m\n\u001b[1;32m    266\u001b[0m \u001b[39mself\u001b[39m\u001b[39m.\u001b[39moptim\u001b[39m.\u001b[39mzero_grad()\n\u001b[1;32m    267\u001b[0m X, y \u001b[39m=\u001b[39m X\u001b[39m.\u001b[39mto(device), y\u001b[39m.\u001b[39mto(device)\n\u001b[0;32m--> 268\u001b[0m y_hat \u001b[39m=\u001b[39m \u001b[39mself\u001b[39;49m\u001b[39m.\u001b[39;49mmodel(X)\n\u001b[1;32m    269\u001b[0m loss \u001b[39m=\u001b[39m F\u001b[39m.\u001b[39mmse_loss(y, y_hat)\n\u001b[1;32m    270\u001b[0m batch_train_loss\u001b[39m.\u001b[39mappend(loss)\n",
      "File \u001b[0;32m/local/agorji/minconda3/envs/spectral/lib/python3.10/site-packages/torch/nn/modules/module.py:1130\u001b[0m, in \u001b[0;36mModule._call_impl\u001b[0;34m(self, *input, **kwargs)\u001b[0m\n\u001b[1;32m   1126\u001b[0m \u001b[39m# If we don't have any hooks, we want to skip the rest of the logic in\u001b[39;00m\n\u001b[1;32m   1127\u001b[0m \u001b[39m# this function, and just call forward.\u001b[39;00m\n\u001b[1;32m   1128\u001b[0m \u001b[39mif\u001b[39;00m \u001b[39mnot\u001b[39;00m (\u001b[39mself\u001b[39m\u001b[39m.\u001b[39m_backward_hooks \u001b[39mor\u001b[39;00m \u001b[39mself\u001b[39m\u001b[39m.\u001b[39m_forward_hooks \u001b[39mor\u001b[39;00m \u001b[39mself\u001b[39m\u001b[39m.\u001b[39m_forward_pre_hooks \u001b[39mor\u001b[39;00m _global_backward_hooks\n\u001b[1;32m   1129\u001b[0m         \u001b[39mor\u001b[39;00m _global_forward_hooks \u001b[39mor\u001b[39;00m _global_forward_pre_hooks):\n\u001b[0;32m-> 1130\u001b[0m     \u001b[39mreturn\u001b[39;00m forward_call(\u001b[39m*\u001b[39;49m\u001b[39minput\u001b[39;49m, \u001b[39m*\u001b[39;49m\u001b[39m*\u001b[39;49mkwargs)\n\u001b[1;32m   1131\u001b[0m \u001b[39m# Do not call functions when jit is used\u001b[39;00m\n\u001b[1;32m   1132\u001b[0m full_backward_hooks, non_full_backward_hooks \u001b[39m=\u001b[39m [], []\n",
      "\u001b[1;32m/home/agorji/spectral_regularizer/test_fourier.ipynb Cell 10\u001b[0m in \u001b[0;36mFCN.forward\u001b[0;34m(self, x)\u001b[0m\n\u001b[1;32m     <a href='vscode-notebook-cell://ssh-remote%2Bmatroid2.inf.ethz.ch/home/agorji/spectral_regularizer/test_fourier.ipynb#X12sdnNjb2RlLXJlbW90ZQ%3D%3D?line=21'>22</a>\u001b[0m     x \u001b[39m=\u001b[39m \u001b[39mself\u001b[39m\u001b[39m.\u001b[39mbn1(F\u001b[39m.\u001b[39mleaky_relu(\u001b[39mself\u001b[39m\u001b[39m.\u001b[39mfc1(x)))\n\u001b[1;32m     <a href='vscode-notebook-cell://ssh-remote%2Bmatroid2.inf.ethz.ch/home/agorji/spectral_regularizer/test_fourier.ipynb#X12sdnNjb2RlLXJlbW90ZQ%3D%3D?line=22'>23</a>\u001b[0m     x \u001b[39m=\u001b[39m \u001b[39mself\u001b[39m\u001b[39m.\u001b[39mbn2(F\u001b[39m.\u001b[39mleaky_relu(\u001b[39mself\u001b[39m\u001b[39m.\u001b[39mfc2(x)))\n\u001b[0;32m---> <a href='vscode-notebook-cell://ssh-remote%2Bmatroid2.inf.ethz.ch/home/agorji/spectral_regularizer/test_fourier.ipynb#X12sdnNjb2RlLXJlbW90ZQ%3D%3D?line=23'>24</a>\u001b[0m     x \u001b[39m=\u001b[39m \u001b[39mself\u001b[39;49m\u001b[39m.\u001b[39;49mbn3(F\u001b[39m.\u001b[39mleaky_relu(\u001b[39mself\u001b[39m\u001b[39m.\u001b[39mfc3(x)))\n\u001b[1;32m     <a href='vscode-notebook-cell://ssh-remote%2Bmatroid2.inf.ethz.ch/home/agorji/spectral_regularizer/test_fourier.ipynb#X12sdnNjb2RlLXJlbW90ZQ%3D%3D?line=24'>25</a>\u001b[0m     x \u001b[39m=\u001b[39m \u001b[39mself\u001b[39m\u001b[39m.\u001b[39mfc4(x)\n\u001b[1;32m     <a href='vscode-notebook-cell://ssh-remote%2Bmatroid2.inf.ethz.ch/home/agorji/spectral_regularizer/test_fourier.ipynb#X12sdnNjb2RlLXJlbW90ZQ%3D%3D?line=25'>26</a>\u001b[0m \u001b[39melse\u001b[39;00m:\n",
      "File \u001b[0;32m/local/agorji/minconda3/envs/spectral/lib/python3.10/site-packages/torch/nn/modules/module.py:1194\u001b[0m, in \u001b[0;36mModule.__getattr__\u001b[0;34m(self, name)\u001b[0m\n\u001b[1;32m   1191\u001b[0m     \u001b[39mif\u001b[39;00m \u001b[39m'\u001b[39m\u001b[39m_is_full_backward_hook\u001b[39m\u001b[39m'\u001b[39m \u001b[39mnot\u001b[39;00m \u001b[39min\u001b[39;00m \u001b[39mself\u001b[39m\u001b[39m.\u001b[39m\u001b[39m__dict__\u001b[39m:\n\u001b[1;32m   1192\u001b[0m         \u001b[39mself\u001b[39m\u001b[39m.\u001b[39m_is_full_backward_hook \u001b[39m=\u001b[39m \u001b[39mNone\u001b[39;00m\n\u001b[0;32m-> 1194\u001b[0m \u001b[39mdef\u001b[39;00m \u001b[39m__getattr__\u001b[39m(\u001b[39mself\u001b[39m, name: \u001b[39mstr\u001b[39m) \u001b[39m-\u001b[39m\u001b[39m>\u001b[39m Union[Tensor, \u001b[39m'\u001b[39m\u001b[39mModule\u001b[39m\u001b[39m'\u001b[39m]:\n\u001b[1;32m   1195\u001b[0m     \u001b[39mif\u001b[39;00m \u001b[39m'\u001b[39m\u001b[39m_parameters\u001b[39m\u001b[39m'\u001b[39m \u001b[39min\u001b[39;00m \u001b[39mself\u001b[39m\u001b[39m.\u001b[39m\u001b[39m__dict__\u001b[39m:\n\u001b[1;32m   1196\u001b[0m         _parameters \u001b[39m=\u001b[39m \u001b[39mself\u001b[39m\u001b[39m.\u001b[39m\u001b[39m__dict__\u001b[39m[\u001b[39m'\u001b[39m\u001b[39m_parameters\u001b[39m\u001b[39m'\u001b[39m]\n",
      "\u001b[0;31mKeyboardInterrupt\u001b[0m: "
     ]
    }
   ],
   "source": [
    "torch.manual_seed(random_seed)\n",
    "\n",
    "train_config = {\n",
    "    \"training_method\": \"hashing\",\n",
    "    \"add_hadamard_loss\": True, \n",
    "    \"SPRIGHT_m\": 7,\n",
    "    \"SPRIGHT_d\": 3,\n",
    "    \"rho\": 0.01,\n",
    "    \"b\": 10,\n",
    "    \"lr\": 0.01, \n",
    "    \"scheduler_step_size\": 50,\n",
    "    \"scheduler_gamma\": 1,\n",
    "    \"weight_decay\": 0, \n",
    "    \"hadamard_lambda\": 1,\n",
    "    \"num_epochs\": 200,\n",
    "    \"batch_size\": 4096,\n",
    "    \"random_seed\": 11,\n",
    "}\n",
    "\n",
    "in_dim = dataset.X.shape[1]\n",
    "model = FCN(in_dim, 10, batch_norm=True)\n",
    "trainer = ModelTrainer(model, dataset, train_config, plot_results=True)\n",
    "log = trainer.train_model()"
   ]
  },
  {
   "cell_type": "code",
   "execution_count": 14,
   "metadata": {},
   "outputs": [],
   "source": [
    "trainer.model.eval()\n",
    "y_true, y_pred = [], []\n",
    "with torch.no_grad():\n",
    "    RSS, TSS = 0, 0\n",
    "    for X, y in trainer.val_loader:\n",
    "        X, y = X.to('cuda'), y.to('cuda')\n",
    "        y_hat = trainer.model(X)\n",
    "        y_true.extend(y.cpu().numpy())\n",
    "        y_pred.extend(y_hat.cpu().numpy())"
   ]
  },
  {
   "cell_type": "markdown",
   "metadata": {},
   "source": [
    "## Test hashing"
   ]
  },
  {
   "cell_type": "code",
   "execution_count": 64,
   "metadata": {},
   "outputs": [
    {
     "name": "stderr",
     "output_type": "stream",
     "text": [
      "/tmp/ipykernel_3656978/3025935720.py:25: UserWarning: To copy construct from a tensor, it is recommended to use sourceTensor.clone().detach() or sourceTensor.clone().detach().requires_grad_(True), rather than torch.tensor(sourceTensor).\n",
      "  mask = torch.sum(hash_rev == torch.tensor(hash_inputs[i, :]), axis=-1) == b\n"
     ]
    },
    {
     "name": "stdout",
     "output_type": "stream",
     "text": [
      "tensor([[1., 0., 1., 1., 0., 0.],\n",
      "        [1., 1., 0., 0., 0., 0.],\n",
      "        [1., 0., 0., 1., 1., 1.],\n",
      "        [1., 1., 0., 0., 1., 1.],\n",
      "        [0., 1., 1., 0., 1., 1.],\n",
      "        [1., 1., 1., 1., 1., 1.],\n",
      "        [1., 0., 0., 1., 0., 0.],\n",
      "        [1., 1., 0., 0., 0., 0.],\n",
      "        [1., 0., 0., 1., 0., 0.],\n",
      "        [0., 1., 0., 0., 1., 0.],\n",
      "        [1., 0., 0., 1., 1., 1.],\n",
      "        [1., 0., 0., 1., 0., 0.],\n",
      "        [0., 1., 0., 0., 0., 1.],\n",
      "        [0., 1., 1., 0., 0., 1.],\n",
      "        [1., 1., 0., 1., 0., 0.],\n",
      "        [0., 1., 1., 0., 0., 1.],\n",
      "        [0., 1., 1., 1., 0., 0.],\n",
      "        [0., 1., 0., 0., 0., 0.],\n",
      "        [0., 0., 1., 1., 0., 0.],\n",
      "        [0., 0., 1., 0., 1., 1.],\n",
      "        [1., 1., 1., 1., 1., 0.],\n",
      "        [1., 1., 0., 1., 0., 1.],\n",
      "        [1., 0., 1., 1., 0., 1.],\n",
      "        [1., 1., 0., 1., 0., 1.],\n",
      "        [0., 0., 0., 0., 0., 0.],\n",
      "        [0., 0., 1., 1., 1., 0.],\n",
      "        [0., 0., 1., 0., 1., 0.],\n",
      "        [1., 0., 0., 1., 1., 0.],\n",
      "        [1., 0., 1., 1., 1., 0.],\n",
      "        [0., 1., 0., 1., 1., 0.],\n",
      "        [1., 0., 1., 0., 0., 0.],\n",
      "        [1., 1., 0., 1., 1., 1.],\n",
      "        [0., 1., 0., 0., 0., 0.],\n",
      "        [1., 1., 1., 1., 0., 1.],\n",
      "        [0., 1., 1., 1., 0., 1.],\n",
      "        [0., 0., 1., 0., 0., 0.],\n",
      "        [0., 1., 1., 1., 1., 0.],\n",
      "        [0., 0., 1., 1., 1., 0.],\n",
      "        [0., 0., 1., 0., 1., 0.],\n",
      "        [1., 1., 0., 1., 0., 1.],\n",
      "        [0., 0., 1., 0., 1., 1.],\n",
      "        [0., 1., 0., 1., 0., 0.],\n",
      "        [0., 1., 0., 0., 0., 0.],\n",
      "        [1., 0., 0., 0., 0., 0.],\n",
      "        [0., 0., 1., 1., 0., 1.],\n",
      "        [0., 1., 0., 1., 0., 1.],\n",
      "        [0., 0., 1., 1., 0., 1.],\n",
      "        [0., 0., 1., 1., 0., 1.],\n",
      "        [1., 0., 1., 0., 1., 0.],\n",
      "        [1., 0., 0., 1., 0., 0.]])\n",
      "torch.Size([50, 6])\n",
      "tensor([ 0.0360,  0.0000,  0.0000,  0.0000,  0.0000,  0.0000,  0.0000,  0.0000,\n",
      "         0.6102,  0.0000,  0.7356, -1.1124,  0.7227,  0.7290,  1.1934,  0.0000,\n",
      "         0.5722, -0.5891, -0.7891,  0.0000, -0.8610,  0.5186, -0.9815,  0.0000,\n",
      "         0.0000, -1.4521,  0.0000, -0.3968,  0.0937, -0.2562, -0.4272,  0.0000,\n",
      "        -0.5921,  0.0000,  0.0000,  0.0000,  0.2318,  0.0000,  0.5675,  0.4460,\n",
      "         0.2400,  0.0000,  0.7744,  0.0000,  0.4026, -0.7101,  0.3848,  0.0000,\n",
      "        -0.0482,  0.0000,  0.0000,  0.7652, -0.1353, -1.6248,  0.0000,  0.3556,\n",
      "         0.0000,  0.0000,  0.0000,  0.0000,  0.0000, -0.6042,  0.9001,  0.9824])\n",
      "tensor([ 3.5993e-02,  1.1642e-08, -8.7311e-08, -4.6566e-08,  1.1642e-08,\n",
      "         4.0745e-08, -4.6566e-08,  1.7462e-08,  6.1023e-01,  0.0000e+00,\n",
      "         7.3555e-01, -1.1124e+00,  7.2265e-01,  7.2897e-01,  1.1934e+00,\n",
      "         0.0000e+00,  5.7225e-01, -5.8906e-01, -7.8911e-01, -6.9849e-08,\n",
      "        -8.6102e-01,  5.1864e-01, -9.8146e-01,  6.9849e-08,  5.8208e-08,\n",
      "        -1.4521e+00, -5.8208e-08, -3.9676e-01,  9.3668e-02, -2.5621e-01,\n",
      "        -4.2723e-01,  2.3283e-08, -5.9213e-01, -2.3283e-08, -2.3283e-08,\n",
      "         2.3283e-08,  2.3175e-01, -6.9849e-08,  5.6747e-01,  4.4602e-01,\n",
      "         2.4004e-01,  1.1642e-08,  7.7444e-01,  1.1642e-08,  4.0258e-01,\n",
      "        -7.1006e-01,  3.8475e-01,  2.3283e-08, -4.8205e-02, -6.9849e-08,\n",
      "        -9.3132e-08,  7.6523e-01, -1.3529e-01, -1.6248e+00,  0.0000e+00,\n",
      "         3.5557e-01,  0.0000e+00,  1.1642e-08, -4.6566e-08,  1.1642e-08,\n",
      "         9.3132e-08, -6.0421e-01,  9.0012e-01,  9.8239e-01])\n"
     ]
    },
    {
     "data": {
      "text/plain": [
       "<BarContainer object of 64 artists>"
      ]
     },
     "execution_count": 64,
     "metadata": {},
     "output_type": "execute_result"
    },
    {
     "data": {
      "image/png": "[encoded data removed]",
      "text/plain": [
       "<Figure size 640x480 with 1 Axes>"
      ]
     },
     "metadata": {},
     "output_type": "display_data"
    }
   ],
   "source": [
    "import copy\n",
    "\n",
    "n = 12\n",
    "k = 50\n",
    "d = 5\n",
    "\n",
    "main_signal = FourierDataset(n, k, d=d)\n",
    "original_inputs = torch.asarray(list((product((0.0,1.0), repeat=n))))\n",
    "\n",
    "# for b in range(2, n):\n",
    "b = 6\n",
    "H = hadamard_matrix(b, normalize=True)\n",
    "\n",
    "# Hash\n",
    "hash_sigma = (torch.rand(n, b) < 0.5).float() # multivariate bernouli with p=0.5\n",
    "hash_inputs = torch.asarray(list((product((0.0,1.0), repeat=b))))\n",
    "sample_inputs = hash_inputs @ torch.t(hash_sigma)\n",
    "hash_landscape = main_signal.compute_y(sample_inputs)\n",
    "hash_spectrum = (H @ hash_landscape) / ((2**(b/2))/k)\n",
    "\n",
    "hash_rev = (main_signal.freq_f @ hash_sigma) % 2 # (sigma^t @ inputs^t)^t\n",
    "hash_amps = torch.zeros(2**b)\n",
    "hash_count = torch.zeros(2**b)\n",
    "for i in range(2**b):\n",
    "    mask = torch.sum(hash_rev == torch.tensor(hash_inputs[i, :]), axis=-1) == b\n",
    "    hash_amps[i] = torch.sum(main_signal.amp_f[mask])\n",
    "    hash_count[i] = torch.sum(mask)\n",
    "print(hash_rev)\n",
    "print(hash_rev.shape)\n",
    "print(hash_amps)\n",
    "print(hash_spectrum)\n",
    "plt.plot(list(range(2**b)), hash_amps.numpy())\n",
    "plt.plot(list(range(2**b)), hash_spectrum.numpy())\n",
    "plt.bar(list(range(2**b)), hash_count.numpy())\n",
    "\n",
    "\n",
    "# hashed_freqs = H @ main_signal.compute_y(sample_inputs)\n",
    "\n",
    "    "
   ]
  },
  {
   "cell_type": "code",
   "execution_count": null,
   "metadata": {},
   "outputs": [],
   "source": []
  }
 ],
 "metadata": {
  "kernelspec": {
   "display_name": "Python 3.10.6 ('spectral')",
   "language": "python",
   "name": "python3"
  },
  "language_info": {
   "codemirror_mode": {
    "name": "ipython",
    "version": 3
   },
   "file_extension": ".py",
   "mimetype": "text/x-python",
   "name": "python",
   "nbconvert_exporter": "python",
   "pygments_lexer": "ipython3",
   "version": "3.10.6"
  },
  "orig_nbformat": 4,
  "vscode": {
   "interpreter": {
    "hash": "01d0f036a9d1bb5c37264df6cfdc4735c8bdfa2b68474f95afe9c6e9e6a644c3"
   }
  }
 },
 "nbformat": 4,
 "nbformat_minor": 2
}
