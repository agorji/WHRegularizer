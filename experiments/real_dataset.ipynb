{
 "cells": [
  {
   "cell_type": "code",
   "execution_count": 1,
   "id": "a93e5757",
   "metadata": {},
   "outputs": [],
   "source": [
    "%matplotlib inline\n",
    "\n",
    "import sys\n",
    "from pathlib import Path\n",
    "sys.path.append(str(Path.cwd().parent))\n",
    "\n",
    "import torch\n",
    "import torch.nn as nn\n",
    "import torch.nn.functional as F\n",
    "from torch.utils.data import Dataset, DataLoader, random_split\n",
    "\n",
    "from sklearn.model_selection import train_test_split\n",
    "from itertools import product\n",
    "import collections\n",
    "import math\n",
    "import random\n",
    "import matplotlib.pyplot as plt\n",
    "import numpy as np\n",
    "\n",
    "from utils import ModelTrainer\n",
    "from datasets import avGFPDataset, GB1Dataset, SGEMMDataset, EntacmaeaDataset"
   ]
  },
  {
   "cell_type": "code",
   "execution_count": 2,
   "id": "1b9c40f3",
   "metadata": {},
   "outputs": [],
   "source": [
    "class FCN(nn.Module):\n",
    "    def __init__(self, n, multiplier=2, batch_norm=False):\n",
    "        super(FCN, self).__init__()\n",
    "        self.fc1 = nn.Linear(n, multiplier*n)\n",
    "        self.fc2 = nn.Linear(multiplier*n, multiplier*n)\n",
    "        self.fc3 = nn.Linear(multiplier*n, n)\n",
    "        self.fc4 = nn.Linear(n, 1)\n",
    "\n",
    "        torch.nn.init.xavier_uniform_(self.fc1.weight)\n",
    "        torch.nn.init.xavier_uniform_(self.fc2.weight)\n",
    "        torch.nn.init.xavier_uniform_(self.fc3.weight)\n",
    "        torch.nn.init.xavier_uniform_(self.fc4.weight)\n",
    "        \n",
    "        self.batch_norm = batch_norm\n",
    "        if self.batch_norm:\n",
    "            self.bn1 = nn.BatchNorm1d(multiplier*n)\n",
    "            self.bn2 = nn.BatchNorm1d(multiplier*n)\n",
    "            self.bn3 = nn.BatchNorm1d(n)\n",
    "\n",
    "    def forward(self, x):\n",
    "        if self.batch_norm:\n",
    "            x = self.bn1(F.leaky_relu(self.fc1(x)))\n",
    "            x = self.bn2(F.leaky_relu(self.fc2(x)))\n",
    "            x = self.bn3(F.leaky_relu(self.fc3(x)))\n",
    "            x = self.fc4(x)\n",
    "        else:\n",
    "            x = F.leaky_relu(self.fc1(x))\n",
    "            x = F.leaky_relu(self.fc2(x))\n",
    "            x = F.leaky_relu(self.fc3(x))\n",
    "            x = self.fc4(x)\n",
    "\n",
    "        return x.reshape(-1)"
   ]
  },
  {
   "cell_type": "code",
   "execution_count": 4,
   "id": "06fc3dd4",
   "metadata": {},
   "outputs": [
    {
     "name": "stdout",
     "output_type": "stream",
     "text": [
      "Loaded dataset from cache.\n",
      "#0 - Train Loss: 1.010, R2: -0.030\tValidation Loss: 0.738, R2: 0.262\talternate_loss: 0.35432\n",
      "#1 - Train Loss: 0.346, R2: 0.647\tValidation Loss: 0.597, R2: 0.403\talternate_loss: 26.92513\n",
      "#2 - Train Loss: 0.160, R2: 0.836\tValidation Loss: 0.560, R2: 0.440\talternate_loss: 63.74999\n",
      "#3 - Train Loss: 0.084, R2: 0.914\tValidation Loss: 0.567, R2: 0.433\talternate_loss: 81.53207\n",
      "#4 - Train Loss: 0.086, R2: 0.913\tValidation Loss: 0.567, R2: 0.433\talternate_loss: 26.59999\n",
      "#5 - Train Loss: 0.043, R2: 0.956\tValidation Loss: 0.553, R2: 0.447\talternate_loss: 52.38102\n",
      "#6 - Train Loss: 0.026, R2: 0.973\tValidation Loss: 0.550, R2: 0.450\talternate_loss: 38.72058\n",
      "#7 - Train Loss: 0.015, R2: 0.984\tValidation Loss: 0.537, R2: 0.463\talternate_loss: 28.45723\n",
      "#8 - Train Loss: 0.016, R2: 0.984\tValidation Loss: 0.538, R2: 0.462\talternate_loss: 26.60867\n",
      "#9 - Train Loss: 0.009, R2: 0.990\tValidation Loss: 0.546, R2: 0.454\talternate_loss: 28.58626\n",
      "#10 - Train Loss: 0.009, R2: 0.991\tValidation Loss: 0.536, R2: 0.464\talternate_loss: 32.50222\n",
      "#11 - Train Loss: 0.008, R2: 0.992\tValidation Loss: 0.536, R2: 0.464\talternate_loss: 31.67455\n",
      "#12 - Train Loss: 0.006, R2: 0.994\tValidation Loss: 0.537, R2: 0.463\talternate_loss: 27.06801\n",
      "#13 - Train Loss: 0.007, R2: 0.993\tValidation Loss: 0.533, R2: 0.467\talternate_loss: 36.86003\n",
      "#14 - Train Loss: 0.005, R2: 0.995\tValidation Loss: 0.535, R2: 0.465\talternate_loss: 25.62791\n",
      "#15 - Train Loss: 0.006, R2: 0.994\tValidation Loss: 0.541, R2: 0.459\talternate_loss: 35.04352\n",
      "#16 - Train Loss: 0.008, R2: 0.992\tValidation Loss: 0.529, R2: 0.471\talternate_loss: 31.41241\n",
      "#17 - Train Loss: 0.008, R2: 0.992\tValidation Loss: 0.542, R2: 0.458\talternate_loss: 37.68727\n",
      "#18 - Train Loss: 0.010, R2: 0.990\tValidation Loss: 0.546, R2: 0.454\talternate_loss: 39.60850\n",
      "#19 - Train Loss: 0.009, R2: 0.991\tValidation Loss: 0.557, R2: 0.443\talternate_loss: 23.36184\n",
      "#20 - Train Loss: 0.010, R2: 0.990\tValidation Loss: 0.537, R2: 0.464\talternate_loss: 36.16422\n",
      "#21 - Train Loss: 0.008, R2: 0.992\tValidation Loss: 0.545, R2: 0.455\talternate_loss: 24.53074\n",
      "#22 - Train Loss: 0.012, R2: 0.988\tValidation Loss: 0.556, R2: 0.444\talternate_loss: 34.53298\n",
      "#23 - Train Loss: 0.012, R2: 0.987\tValidation Loss: 0.553, R2: 0.447\talternate_loss: 43.64572\n",
      "#24 - Train Loss: 0.008, R2: 0.992\tValidation Loss: 0.531, R2: 0.469\talternate_loss: 28.34996\n",
      "#25 - Train Loss: 0.008, R2: 0.992\tValidation Loss: 0.557, R2: 0.443\talternate_loss: 27.22828\n",
      "#26 - Train Loss: 0.009, R2: 0.991\tValidation Loss: 0.557, R2: 0.443\talternate_loss: 25.32651\n",
      "#27 - Train Loss: 0.008, R2: 0.992\tValidation Loss: 0.525, R2: 0.475\talternate_loss: 24.70607\n",
      "#28 - Train Loss: 0.009, R2: 0.990\tValidation Loss: 0.547, R2: 0.453\talternate_loss: 18.45339\n",
      "#29 - Train Loss: 0.010, R2: 0.989\tValidation Loss: 0.553, R2: 0.447\talternate_loss: 27.03707\n",
      "#30 - Train Loss: 0.009, R2: 0.990\tValidation Loss: 0.540, R2: 0.460\talternate_loss: 21.34149\n",
      "#31 - Train Loss: 0.011, R2: 0.989\tValidation Loss: 0.537, R2: 0.463\talternate_loss: 27.26074\n",
      "#32 - Train Loss: 0.009, R2: 0.991\tValidation Loss: 0.567, R2: 0.433\talternate_loss: 34.64557\n",
      "#33 - Train Loss: 0.007, R2: 0.992\tValidation Loss: 0.532, R2: 0.468\talternate_loss: 25.36027\n",
      "#34 - Train Loss: 0.008, R2: 0.992\tValidation Loss: 0.533, R2: 0.467\talternate_loss: 27.86944\n",
      "#35 - Train Loss: 0.007, R2: 0.993\tValidation Loss: 0.526, R2: 0.474\talternate_loss: 30.74061\n",
      "#36 - Train Loss: 0.006, R2: 0.994\tValidation Loss: 0.547, R2: 0.453\talternate_loss: 23.94554\n",
      "#37 - Train Loss: 0.005, R2: 0.995\tValidation Loss: 0.533, R2: 0.467\talternate_loss: 23.80148\n",
      "#38 - Train Loss: 0.006, R2: 0.994\tValidation Loss: 0.554, R2: 0.446\talternate_loss: 29.34395\n",
      "#39 - Train Loss: 0.005, R2: 0.995\tValidation Loss: 0.537, R2: 0.464\talternate_loss: 21.85093\n",
      "#40 - Train Loss: 0.005, R2: 0.995\tValidation Loss: 0.537, R2: 0.463\talternate_loss: 25.53910\n",
      "#41 - Train Loss: 0.005, R2: 0.995\tValidation Loss: 0.547, R2: 0.453\talternate_loss: 20.80290\n",
      "#42 - Train Loss: 0.006, R2: 0.994\tValidation Loss: 0.542, R2: 0.458\talternate_loss: 23.20133\n",
      "#43 - Train Loss: 0.008, R2: 0.992\tValidation Loss: 0.543, R2: 0.457\talternate_loss: 23.68689\n",
      "#44 - Train Loss: 0.006, R2: 0.993\tValidation Loss: 0.636, R2: 0.365\talternate_loss: 19.94931\n",
      "#45 - Train Loss: 0.028, R2: 0.971\tValidation Loss: 0.543, R2: 0.457\talternate_loss: 20.59973\n",
      "#46 - Train Loss: 0.021, R2: 0.979\tValidation Loss: 0.572, R2: 0.428\talternate_loss: 12.13687\n",
      "#47 - Train Loss: 0.026, R2: 0.973\tValidation Loss: 0.560, R2: 0.440\talternate_loss: 23.57910\n",
      "#48 - Train Loss: 0.045, R2: 0.954\tValidation Loss: 0.561, R2: 0.439\talternate_loss: 8.50801\n",
      "#49 - Train Loss: 0.071, R2: 0.928\tValidation Loss: 0.602, R2: 0.398\talternate_loss: 10.30940\n",
      "#50 - Train Loss: 0.138, R2: 0.859\tValidation Loss: 0.616, R2: 0.385\talternate_loss: 19.92384\n",
      "#51 - Train Loss: 0.113, R2: 0.885\tValidation Loss: 0.633, R2: 0.367\talternate_loss: 3.17087\n",
      "#52 - Train Loss: 0.110, R2: 0.887\tValidation Loss: 0.699, R2: 0.301\talternate_loss: 15.08134\n",
      "#53 - Train Loss: 0.112, R2: 0.885\tValidation Loss: 0.642, R2: 0.358\talternate_loss: 11.85375\n",
      "#54 - Train Loss: 0.058, R2: 0.941\tValidation Loss: 0.698, R2: 0.302\talternate_loss: 8.90369\n",
      "#55 - Train Loss: 0.098, R2: 0.900\tValidation Loss: 0.591, R2: 0.409\talternate_loss: 21.96246\n",
      "#56 - Train Loss: 0.041, R2: 0.958\tValidation Loss: 0.658, R2: 0.342\talternate_loss: 15.84624\n",
      "#57 - Train Loss: 0.020, R2: 0.980\tValidation Loss: 0.613, R2: 0.387\talternate_loss: 9.64110\n",
      "#58 - Train Loss: 0.016, R2: 0.984\tValidation Loss: 0.601, R2: 0.399\talternate_loss: 11.85461\n",
      "#59 - Train Loss: 0.012, R2: 0.988\tValidation Loss: 0.595, R2: 0.405\talternate_loss: 10.32900\n",
      "#60 - Train Loss: 0.020, R2: 0.980\tValidation Loss: 0.642, R2: 0.358\talternate_loss: 24.81209\n",
      "#61 - Train Loss: 0.013, R2: 0.986\tValidation Loss: 0.601, R2: 0.399\talternate_loss: 10.54441\n",
      "#62 - Train Loss: 0.008, R2: 0.992\tValidation Loss: 0.609, R2: 0.391\talternate_loss: 10.86533\n",
      "#63 - Train Loss: 0.009, R2: 0.991\tValidation Loss: 0.580, R2: 0.421\talternate_loss: 9.26075\n",
      "#64 - Train Loss: 0.007, R2: 0.993\tValidation Loss: 0.622, R2: 0.378\talternate_loss: 9.44766\n",
      "#65 - Train Loss: 0.006, R2: 0.994\tValidation Loss: 0.585, R2: 0.415\talternate_loss: 19.72080\n",
      "#66 - Train Loss: 0.005, R2: 0.995\tValidation Loss: 0.605, R2: 0.395\talternate_loss: 17.78106\n",
      "#67 - Train Loss: 0.004, R2: 0.996\tValidation Loss: 0.594, R2: 0.406\talternate_loss: 16.96277\n",
      "#68 - Train Loss: 0.004, R2: 0.996\tValidation Loss: 0.596, R2: 0.404\talternate_loss: 20.93202\n",
      "#69 - Train Loss: 0.003, R2: 0.997\tValidation Loss: 0.608, R2: 0.392\talternate_loss: 14.82399\n",
      "#70 - Train Loss: 0.003, R2: 0.997\tValidation Loss: 0.598, R2: 0.402\talternate_loss: 18.61737\n",
      "#71 - Train Loss: 0.003, R2: 0.997\tValidation Loss: 0.595, R2: 0.405\talternate_loss: 18.54653\n",
      "#72 - Train Loss: 0.003, R2: 0.997\tValidation Loss: 0.597, R2: 0.403\talternate_loss: 18.32386\n",
      "#73 - Train Loss: 0.003, R2: 0.997\tValidation Loss: 0.597, R2: 0.403\talternate_loss: 17.11390\n",
      "#74 - Train Loss: 0.003, R2: 0.997\tValidation Loss: 0.591, R2: 0.409\talternate_loss: 18.46355\n",
      "#75 - Train Loss: 0.003, R2: 0.997\tValidation Loss: 0.601, R2: 0.399\talternate_loss: 18.38248\n",
      "#76 - Train Loss: 0.003, R2: 0.997\tValidation Loss: 0.600, R2: 0.400\talternate_loss: 17.60674\n",
      "#77 - Train Loss: 0.003, R2: 0.997\tValidation Loss: 0.606, R2: 0.394\talternate_loss: 19.35219\n",
      "#78 - Train Loss: 0.003, R2: 0.997\tValidation Loss: 0.590, R2: 0.410\talternate_loss: 22.72168\n",
      "#79 - Train Loss: 0.002, R2: 0.998\tValidation Loss: 0.608, R2: 0.393\talternate_loss: 15.02579\n",
      "#80 - Train Loss: 0.003, R2: 0.997\tValidation Loss: 0.593, R2: 0.407\talternate_loss: 23.63114\n",
      "#81 - Train Loss: 0.003, R2: 0.997\tValidation Loss: 0.601, R2: 0.399\talternate_loss: 19.47254\n",
      "#82 - Train Loss: 0.003, R2: 0.997\tValidation Loss: 0.597, R2: 0.403\talternate_loss: 20.83350\n",
      "#83 - Train Loss: 0.003, R2: 0.997\tValidation Loss: 0.594, R2: 0.407\talternate_loss: 19.82735\n",
      "#84 - Train Loss: 0.003, R2: 0.997\tValidation Loss: 0.594, R2: 0.406\talternate_loss: 19.88495\n",
      "#85 - Train Loss: 0.003, R2: 0.997\tValidation Loss: 0.603, R2: 0.398\talternate_loss: 17.78973\n",
      "#86 - Train Loss: 0.004, R2: 0.996\tValidation Loss: 0.609, R2: 0.391\talternate_loss: 24.91845\n",
      "#87 - Train Loss: 0.004, R2: 0.996\tValidation Loss: 0.613, R2: 0.387\talternate_loss: 19.13674\n"
     ]
    },
    {
     "name": "stdout",
     "output_type": "stream",
     "text": [
      "#88 - Train Loss: 0.004, R2: 0.996\tValidation Loss: 0.627, R2: 0.373\talternate_loss: 18.63190\n",
      "#89 - Train Loss: 0.004, R2: 0.996\tValidation Loss: 0.585, R2: 0.415\talternate_loss: 19.66565\n",
      "#90 - Train Loss: 0.004, R2: 0.996\tValidation Loss: 0.626, R2: 0.374\talternate_loss: 16.70835\n",
      "#91 - Train Loss: 0.004, R2: 0.996\tValidation Loss: 0.594, R2: 0.406\talternate_loss: 22.90574\n",
      "#92 - Train Loss: 0.003, R2: 0.997\tValidation Loss: 0.606, R2: 0.394\talternate_loss: 19.45034\n",
      "#93 - Train Loss: 0.003, R2: 0.997\tValidation Loss: 0.596, R2: 0.404\talternate_loss: 20.67950\n",
      "#94 - Train Loss: 0.003, R2: 0.997\tValidation Loss: 0.593, R2: 0.407\talternate_loss: 18.90625\n",
      "#95 - Train Loss: 0.003, R2: 0.997\tValidation Loss: 0.590, R2: 0.410\talternate_loss: 17.08685\n",
      "#96 - Train Loss: 0.003, R2: 0.997\tValidation Loss: 0.608, R2: 0.392\talternate_loss: 16.43115\n",
      "#97 - Train Loss: 0.002, R2: 0.998\tValidation Loss: 0.597, R2: 0.403\talternate_loss: 15.47952\n",
      "#98 - Train Loss: 0.002, R2: 0.998\tValidation Loss: 0.587, R2: 0.413\talternate_loss: 14.74982\n",
      "#99 - Train Loss: 0.002, R2: 0.997\tValidation Loss: 0.599, R2: 0.401\talternate_loss: 17.91378\n",
      "0.47546145315987987\n"
     ]
    },
    {
     "data": {
      "image/png": "[encoded data removed]",
      "text/plain": [
       "<Figure size 800x300 with 2 Axes>"
      ]
     },
     "metadata": {},
     "output_type": "display_data"
    }
   ],
   "source": [
    "fix_seed = 1\n",
    "random_seed = 11\n",
    "dataset = \"avGFP\"\n",
    "\n",
    "train_size = 500\n",
    "\n",
    "config = {\n",
    "    \"training_method\": \"hashing\",\n",
    "    \"b\": 10,\n",
    "    \"lr\": 0.01, \n",
    "    \"weight_decay\": 0, \n",
    "    \"hadamard_lambda\": 0.0001,\n",
    "    \"num_epochs\": 100,\n",
    "    \"random_seed\": random_seed,\n",
    "    \"fix_seed\": fix_seed,\n",
    "    \"train_size\": train_size,\n",
    "    \"dataset\": dataset,\n",
    "    \"batch_size\": 16,\n",
    "    \"normalize\": True,\n",
    "}\n",
    "\n",
    "# config = {\n",
    "#     \"training_method\": \"normal\",\n",
    "#     \"lr\": 0.001, \n",
    "#     \"weight_decay\": 0, \n",
    "#     \"num_epochs\": 100,\n",
    "#     \"random_seed\": random_seed,\n",
    "#     \"fix_seed\": fix_seed,\n",
    "#     \"train_size\": train_size,\n",
    "#     \"batch_size\": 16,\n",
    "#     \"dataset\": dataset,\n",
    "#     \"normalize\": True\n",
    "# }\n",
    "\n",
    "# config = {\n",
    "#     \"training_method\": \"EN-S\",\n",
    "#     \"SPRIGHT_d\": 3,\n",
    "#     \"rho\": 0.01,\n",
    "#     \"b\": 7,\n",
    "#     \"lr\": 0.01, \n",
    "#     \"weight_decay\": 0, \n",
    "#     \"hadamard_lambda\": 1,\n",
    "#     \"num_epochs\": 100,\n",
    "#     \"random_seed\": random_seed,\n",
    "#     \"fix_seed\": fix_seed,\n",
    "#     \"train_size\": train_size,\n",
    "#     \"batch_size\": 16,\n",
    "#     \"dataset\": dataset,\n",
    "#     \"normalize\": True\n",
    "# }\n",
    "\n",
    "config = {\n",
    "    \"training_method\": \"alternate\",\n",
    "    \"b\": 5,\n",
    "    \"lr\": 0.01, \n",
    "    \"SPRIGHT_d\": 3,\n",
    "    \"weight_decay\": 0, \n",
    "    \"hadamard_lambda\": 0.01,\n",
    "    \"num_epochs\": 100,\n",
    "    \"random_seed\": random_seed,\n",
    "    \"fix_seed\": fix_seed,\n",
    "    \"train_size\": train_size,\n",
    "    \"dataset\": dataset,\n",
    "    \"batch_size\": 16,\n",
    "    \"normalize\": True,\n",
    "    \"whole_train\": True,\n",
    "}\n",
    "\n",
    "    \n",
    "# Dataset\n",
    "torch.manual_seed(config[\"fix_seed\"])\n",
    "if dataset == \"GB1\":\n",
    "    dataset = GB1Dataset()\n",
    "elif dataset == \"avGFP\":\n",
    "    dataset = avGFPDataset()\n",
    "elif dataset == \"SGEMM\":\n",
    "    dataset = SGEMMDataset()\n",
    "elif dataset == \"Entacmaea\":\n",
    "    dataset = EntacmaeaDataset()\n",
    "else:\n",
    "    raise Exception\n",
    "    \n",
    "if config.get(\"normalize\", False):\n",
    "    dataset.y = (dataset.y-torch.mean(dataset.y))/torch.std(dataset.y)\n",
    "dataset_size = len(dataset)\n",
    "train_ds, val_ds = torch.utils.data.random_split(dataset, [config[\"train_size\"], dataset_size - config[\"train_size\"]])\n",
    "\n",
    "# Train model\n",
    "torch.manual_seed(config[\"random_seed\"]) # Seed for network initialization\n",
    "in_dim = dataset.X.shape[1]\n",
    "model = FCN(in_dim, 1, batch_norm=False)\n",
    "trainer = ModelTrainer(model, train_ds, val_ds, config=config,  plot_results=True, checkpoint_cache=True)\n",
    "model = trainer.train_model()\n",
    "print(max([l[\"val_r2\"] for l in trainer.logs]))\n"
   ]
  },
  {
   "cell_type": "code",
   "execution_count": 6,
   "id": "f49e681d",
   "metadata": {},
   "outputs": [
    {
     "data": {
      "text/plain": [
       "torch.Size([241600, 34])"
      ]
     },
     "execution_count": 6,
     "metadata": {},
     "output_type": "execute_result"
    }
   ],
   "source": [
    "dataset.X.shape"
   ]
  },
  {
   "cell_type": "code",
   "execution_count": 29,
   "id": "94b6e54f",
   "metadata": {},
   "outputs": [],
   "source": [
    "loss = nn.L1Loss(reduction='sum')\n",
    "input = torch.randn(3, 5, requires_grad=True)\n",
    "target = torch.randn(3, 5)\n",
    "output = loss(input, target)\n",
    "output.backward()"
   ]
  },
  {
   "cell_type": "code",
   "execution_count": 30,
   "id": "e9ba7fcf",
   "metadata": {},
   "outputs": [
    {
     "data": {
      "text/plain": [
       "tensor(19.1421, grad_fn=<L1LossBackward0>)"
      ]
     },
     "execution_count": 30,
     "metadata": {},
     "output_type": "execute_result"
    }
   ],
   "source": [
    "output"
   ]
  },
  {
   "cell_type": "code",
   "execution_count": 31,
   "id": "f6965041",
   "metadata": {},
   "outputs": [
    {
     "data": {
      "text/plain": [
       "tensor([[ 0.5268, -1.8115,  0.7159,  0.0330,  0.0356],\n",
       "        [-2.3874, -2.3935,  0.8949,  0.3207,  0.9698],\n",
       "        [ 1.3622, -0.4997,  0.5467, -1.2911, -0.7537]], requires_grad=True)"
      ]
     },
     "execution_count": 31,
     "metadata": {},
     "output_type": "execute_result"
    }
   ],
   "source": [
    "input"
   ]
  },
  {
   "cell_type": "code",
   "execution_count": 32,
   "id": "4aa5b353",
   "metadata": {},
   "outputs": [
    {
     "data": {
      "text/plain": [
       "tensor([[1.4174, 2.2973, 1.6245, 0.0703, 0.6259],\n",
       "        [0.0172, 2.8585, 1.0336, 2.5225, 1.3419],\n",
       "        [1.1301, 1.0042, 1.4258, 0.6240, 1.1490]], grad_fn=<AbsBackward0>)"
      ]
     },
     "execution_count": 32,
     "metadata": {},
     "output_type": "execute_result"
    }
   ],
   "source": [
    "torch.abs(input - target)"
   ]
  },
  {
   "cell_type": "code",
   "execution_count": 34,
   "id": "4773b19e",
   "metadata": {},
   "outputs": [
    {
     "data": {
      "text/plain": [
       "tensor([6.0355, 7.7736, 5.3330], grad_fn=<SumBackward1>)"
      ]
     },
     "execution_count": 34,
     "metadata": {},
     "output_type": "execute_result"
    }
   ],
   "source": [
    "torch.sum(torch.abs(input - target), axis=1)"
   ]
  },
  {
   "cell_type": "code",
   "execution_count": null,
   "id": "cc073f1d",
   "metadata": {},
   "outputs": [],
   "source": []
  }
 ],
 "metadata": {
  "kernelspec": {
   "display_name": "Python 3 (ipykernel)",
   "language": "python",
   "name": "python3"
  },
  "language_info": {
   "codemirror_mode": {
    "name": "ipython",
    "version": 3
   },
   "file_extension": ".py",
   "mimetype": "text/x-python",
   "name": "python",
   "nbconvert_exporter": "python",
   "pygments_lexer": "ipython3",
   "version": "3.10.6"
  }
 },
 "nbformat": 4,
 "nbformat_minor": 5
}
