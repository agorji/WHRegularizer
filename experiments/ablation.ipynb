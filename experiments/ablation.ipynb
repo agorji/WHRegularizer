{
 "cells": [
  {
   "cell_type": "code",
   "execution_count": 1,
   "metadata": {},
   "outputs": [],
   "source": [
    "import sys\n",
    "import os\n",
    "from pathlib import Path\n",
    "sys.path.append(str(Path.cwd().parent))\n",
    "\n",
    "import torch\n",
    "import torch.nn as nn\n",
    "import torch.nn.functional as F\n",
    "from torch.utils.data import Dataset, DataLoader, random_split\n",
    "\n",
    "from sklearn.model_selection import train_test_split\n",
    "from sklearn.metrics import r2_score, mean_squared_error\n",
    "from itertools import product\n",
    "import math\n",
    "import random\n",
    "import numpy as np\n",
    "import pandas as pd\n",
    "import matplotlib.pyplot as plt\n",
    "import seaborn as sns\n",
    "import pickle\n",
    "\n",
    "from datasets import get_real_dataset\n",
    "\n",
    "from rf_fourier.fourier import Fourier\n",
    "from rf_fourier.rf_fourier_extractor import RFFourierExtractor\n",
    "from sklearn.ensemble import RandomForestClassifier, RandomForestRegressor\n",
    "\n",
    "random_seed = 1\n",
    "torch.manual_seed(random_seed)\n",
    "random.seed(random_seed)\n",
    "\n",
    "data_directory = os.environ.get(\"EXPERIMENT_DATA\") if \"EXPERIMENT_DATA\" in os.environ else os.getcwd()"
   ]
  },
  {
   "attachments": {},
   "cell_type": "markdown",
   "metadata": {},
   "source": [
    "# Load dataset"
   ]
  },
  {
   "cell_type": "code",
   "execution_count": 2,
   "metadata": {},
   "outputs": [
    {
     "name": "stdout",
     "output_type": "stream",
     "text": [
      "Loaded dataset from cache.\n",
      "10000 231600\n"
     ]
    }
   ],
   "source": [
    "dataset_name = \"SGEMM\"\n",
    "train_size = 10000\n",
    "rf_n_estimators = 100\n",
    "rf_max_depth = 10\n",
    "\n",
    "model_name = f\"{dataset_name}_train{train_size}_nest{rf_n_estimators}_depth{rf_max_depth}_seed{random_seed}\"\n",
    "fourier_file = f\"{data_directory}/rf_fourier/{model_name}.pkl\"\n",
    "rf_file = f\"{data_directory}/rf_model/{model_name}.pkl\"\n",
    "\n",
    "dataset = get_real_dataset(dataset_name)\n",
    "dataset.y = (dataset.y-torch.mean(dataset.y))/torch.std(dataset.y)\n",
    "total_size = len(dataset)\n",
    "torch.manual_seed(random_seed)\n",
    "train_ds, val_ds = torch.utils.data.random_split(dataset, [train_size, total_size - train_size])\n",
    "print(len(train_ds), len(val_ds))"
   ]
  },
  {
   "attachments": {},
   "cell_type": "markdown",
   "metadata": {},
   "source": [
    "# Train RF"
   ]
  },
  {
   "cell_type": "code",
   "execution_count": 3,
   "metadata": {},
   "outputs": [
    {
     "name": "stdout",
     "output_type": "stream",
     "text": [
      "{'train_mse_loss': 0.002871174176531081, 'train_r2': 0.9973357569395795, 'val_mse_loss': 0.005646830939298296, 'val_r2': 0.994334073963072}\n"
     ]
    }
   ],
   "source": [
    "model =  RandomForestRegressor(n_estimators=rf_n_estimators, max_depth=rf_max_depth, random_state=random_seed)\n",
    "\n",
    "if not os.path.exists(rf_file):\n",
    "    model.fit(train_ds[:][0].cpu().numpy(), train_ds[:][1].cpu().numpy())\n",
    "    with open(rf_file, 'wb') as handle:\n",
    "        pickle.dump(model, handle, protocol=pickle.HIGHEST_PROTOCOL)\n",
    "else:\n",
    "    with open(rf_file, 'rb') as handle:\n",
    "        model = pickle.load(handle)\n",
    "\n",
    "\n",
    "train_pred = model.predict(train_ds[:][0].cpu().numpy())\n",
    "val_pred = model.predict(val_ds[:][0].cpu().numpy())\n",
    "# test_pred = model.predict(test_ds[:][0].cpu().numpy())\n",
    "\n",
    "log = {\n",
    "        \"train_mse_loss\": mean_squared_error(train_ds[:][1].cpu().numpy(), train_pred),\n",
    "        \"train_r2\": r2_score(train_ds[:][1].cpu().numpy(), train_pred),\n",
    "        \"val_mse_loss\": mean_squared_error(val_ds[:][1].cpu().numpy(), val_pred),\n",
    "        \"val_r2\": r2_score(val_ds[:][1].cpu().numpy(), val_pred),\n",
    "        # \"test_mse_loss\": mean_squared_error(test_ds[:][1].cpu().numpy(), test_pred),\n",
    "        # \"test_r2\": r2_score(test_ds[:][1].cpu().numpy(), test_pred),\n",
    "    }\n",
    "\n",
    "print(log)"
   ]
  },
  {
   "cell_type": "code",
   "execution_count": 4,
   "metadata": {},
   "outputs": [
    {
     "name": "stdout",
     "output_type": "stream",
     "text": [
      "982\n",
      "974\n",
      "956\n",
      "954\n",
      "963\n",
      "968\n",
      "975\n",
      "954\n",
      "973\n",
      "965\n",
      "965\n",
      "963\n",
      "984\n",
      "979\n",
      "974\n",
      "950\n",
      "941\n",
      "965\n",
      "964\n",
      "904\n",
      "977\n",
      "970\n",
      "969\n",
      "966\n",
      "967\n",
      "988\n",
      "971\n",
      "952\n",
      "972\n",
      "962\n",
      "961\n",
      "971\n",
      "956\n",
      "966\n",
      "977\n",
      "979\n",
      "966\n",
      "971\n",
      "968\n",
      "972\n",
      "966\n",
      "956\n",
      "983\n",
      "960\n",
      "966\n",
      "970\n",
      "994\n",
      "969\n",
      "974\n",
      "984\n",
      "983\n",
      "956\n",
      "949\n",
      "961\n",
      "975\n",
      "967\n",
      "965\n",
      "982\n",
      "963\n",
      "973\n",
      "962\n",
      "978\n",
      "976\n",
      "972\n",
      "958\n",
      "977\n",
      "977\n",
      "970\n",
      "978\n",
      "985\n",
      "971\n",
      "975\n",
      "960\n",
      "958\n",
      "980\n",
      "966\n",
      "968\n",
      "974\n",
      "970\n",
      "971\n",
      "961\n",
      "982\n",
      "982\n",
      "970\n",
      "978\n",
      "969\n",
      "952\n",
      "966\n",
      "969\n",
      "966\n",
      "960\n",
      "978\n",
      "964\n",
      "935\n",
      "971\n",
      "977\n",
      "969\n",
      "978\n",
      "966\n",
      "981\n"
     ]
    }
   ],
   "source": [
    "for est in model.estimators_:\n",
    "    tree = est.tree_\n",
    "    print(np.sum(np.array(tree.children_left) != -1))"
   ]
  },
  {
   "attachments": {},
   "cell_type": "markdown",
   "metadata": {},
   "source": [
    "# Extract Fourier"
   ]
  },
  {
   "cell_type": "code",
   "execution_count": 5,
   "metadata": {},
   "outputs": [
    {
     "name": "stderr",
     "output_type": "stream",
     "text": [
      "100%|██████████| 100/100 [02:31<00:00,  1.51s/it]\n"
     ]
    },
    {
     "name": "stdout",
     "output_type": "stream",
     "text": [
      "Sparsity = 2357592\n"
     ]
    }
   ],
   "source": [
    "if not os.path.exists(fourier_file):\n",
    "    rf_fourier = RFFourierExtractor(model).get_fourier_transform()\n",
    "\n",
    "    with open(fourier_file, 'wb') as handle:\n",
    "        pickle.dump(rf_fourier, handle, protocol=pickle.HIGHEST_PROTOCOL)\n",
    "else:\n",
    "    with open(fourier_file, 'rb') as handle:\n",
    "        rf_fourier = pickle.load(handle)\n",
    "    print(\"Sparsity =\", len(rf_fourier.series))"
   ]
  },
  {
   "cell_type": "code",
   "execution_count": 7,
   "metadata": {},
   "outputs": [],
   "source": [
    "rf_fourier2 = RFFourierExtractor(model).get_fourier_transform()"
   ]
  },
  {
   "cell_type": "code",
   "execution_count": 10,
   "metadata": {},
   "outputs": [
    {
     "name": "stdout",
     "output_type": "stream",
     "text": [
      "2956\n"
     ]
    },
    {
     "ename": "KeyboardInterrupt",
     "evalue": "",
     "output_type": "error",
     "traceback": [
      "\u001b[0;31m---------------------------------------------------------------------------\u001b[0m",
      "\u001b[0;31mKeyboardInterrupt\u001b[0m                         Traceback (most recent call last)",
      "\u001b[1;32m/cluster/home/agorji/WHRegularizer/experiments/ablation.ipynb Cell 10\u001b[0m in \u001b[0;36m<cell line: 4>\u001b[0;34m()\u001b[0m\n\u001b[1;32m      <a href='vscode-notebook-cell://ssh-remote%2Beuler.ethz.ch/cluster/home/agorji/WHRegularizer/experiments/ablation.ipynb#X11sdnNjb2RlLXJlbW90ZQ%3D%3D?line=1'>2</a>\u001b[0m \u001b[39mprint\u001b[39m(\u001b[39mlen\u001b[39m(rf_fourier\u001b[39m.\u001b[39mseries))\n\u001b[1;32m      <a href='vscode-notebook-cell://ssh-remote%2Beuler.ethz.ch/cluster/home/agorji/WHRegularizer/experiments/ablation.ipynb#X11sdnNjb2RlLXJlbW90ZQ%3D%3D?line=2'>3</a>\u001b[0m train_fourier_preds \u001b[39m=\u001b[39m rf_fourier\u001b[39m.\u001b[39mpredict(train_ds[:][\u001b[39m0\u001b[39m]\u001b[39m.\u001b[39mcpu()\u001b[39m.\u001b[39mnumpy())\n\u001b[0;32m----> <a href='vscode-notebook-cell://ssh-remote%2Beuler.ethz.ch/cluster/home/agorji/WHRegularizer/experiments/ablation.ipynb#X11sdnNjb2RlLXJlbW90ZQ%3D%3D?line=3'>4</a>\u001b[0m val_fourier_preds \u001b[39m=\u001b[39m rf_fourier\u001b[39m.\u001b[39;49mpredict(val_ds[:][\u001b[39m0\u001b[39;49m]\u001b[39m.\u001b[39;49mcpu()\u001b[39m.\u001b[39;49mnumpy())\n\u001b[1;32m      <a href='vscode-notebook-cell://ssh-remote%2Beuler.ethz.ch/cluster/home/agorji/WHRegularizer/experiments/ablation.ipynb#X11sdnNjb2RlLXJlbW90ZQ%3D%3D?line=6'>7</a>\u001b[0m fourier_log \u001b[39m=\u001b[39m {\n\u001b[1;32m      <a href='vscode-notebook-cell://ssh-remote%2Beuler.ethz.ch/cluster/home/agorji/WHRegularizer/experiments/ablation.ipynb#X11sdnNjb2RlLXJlbW90ZQ%3D%3D?line=7'>8</a>\u001b[0m         \u001b[39m\"\u001b[39m\u001b[39mtrain_r2\u001b[39m\u001b[39m\"\u001b[39m: r2_score(train_ds[:][\u001b[39m1\u001b[39m]\u001b[39m.\u001b[39mcpu()\u001b[39m.\u001b[39mnumpy(), train_fourier_preds),\n\u001b[1;32m      <a href='vscode-notebook-cell://ssh-remote%2Beuler.ethz.ch/cluster/home/agorji/WHRegularizer/experiments/ablation.ipynb#X11sdnNjb2RlLXJlbW90ZQ%3D%3D?line=8'>9</a>\u001b[0m         \u001b[39m\"\u001b[39m\u001b[39mval_r2\u001b[39m\u001b[39m\"\u001b[39m: r2_score(val_ds[:][\u001b[39m1\u001b[39m]\u001b[39m.\u001b[39mcpu()\u001b[39m.\u001b[39mnumpy(), val_fourier_preds),\n\u001b[1;32m     <a href='vscode-notebook-cell://ssh-remote%2Beuler.ethz.ch/cluster/home/agorji/WHRegularizer/experiments/ablation.ipynb#X11sdnNjb2RlLXJlbW90ZQ%3D%3D?line=9'>10</a>\u001b[0m         \u001b[39m\"\u001b[39m\u001b[39mtrain_fourier_r2\u001b[39m\u001b[39m\"\u001b[39m: r2_score(train_pred, train_fourier_preds),\n\u001b[1;32m     <a href='vscode-notebook-cell://ssh-remote%2Beuler.ethz.ch/cluster/home/agorji/WHRegularizer/experiments/ablation.ipynb#X11sdnNjb2RlLXJlbW90ZQ%3D%3D?line=10'>11</a>\u001b[0m         \u001b[39m\"\u001b[39m\u001b[39mval_fourier_r2\u001b[39m\u001b[39m\"\u001b[39m: r2_score(val_pred, val_fourier_preds),\n\u001b[1;32m     <a href='vscode-notebook-cell://ssh-remote%2Beuler.ethz.ch/cluster/home/agorji/WHRegularizer/experiments/ablation.ipynb#X11sdnNjb2RlLXJlbW90ZQ%3D%3D?line=11'>12</a>\u001b[0m     }\n\u001b[1;32m     <a href='vscode-notebook-cell://ssh-remote%2Beuler.ethz.ch/cluster/home/agorji/WHRegularizer/experiments/ablation.ipynb#X11sdnNjb2RlLXJlbW90ZQ%3D%3D?line=13'>14</a>\u001b[0m \u001b[39mprint\u001b[39m(fourier_log)\n",
      "File \u001b[0;32m~/WHRegularizer/rf_fourier/fourier.py:102\u001b[0m, in \u001b[0;36mFourier.predict\u001b[0;34m(self, matrix)\u001b[0m\n\u001b[1;32m    100\u001b[0m pred \u001b[39m=\u001b[39m np\u001b[39m.\u001b[39mzeros((matrix\u001b[39m.\u001b[39mshape[\u001b[39m0\u001b[39m]))\n\u001b[1;32m    101\u001b[0m \u001b[39mfor\u001b[39;00m freq, amp \u001b[39min\u001b[39;00m \u001b[39mself\u001b[39m\u001b[39m.\u001b[39mseries\u001b[39m.\u001b[39mitems():\n\u001b[0;32m--> 102\u001b[0m     sign \u001b[39m=\u001b[39m np\u001b[39m.\u001b[39;49msum(matrix[:, \u001b[39mlist\u001b[39;49m(freq)], axis\u001b[39m=\u001b[39;49m\u001b[39m1\u001b[39;49m, keepdims\u001b[39m=\u001b[39;49m\u001b[39mFalse\u001b[39;49;00m)\n\u001b[1;32m    103\u001b[0m     pred \u001b[39m+\u001b[39m\u001b[39m=\u001b[39m \u001b[39mfloat\u001b[39m(amp) \u001b[39m*\u001b[39m np\u001b[39m.\u001b[39mwhere((sign \u001b[39m%\u001b[39m \u001b[39m2\u001b[39m) \u001b[39m==\u001b[39m \u001b[39m1\u001b[39m, \u001b[39m-\u001b[39m\u001b[39m1\u001b[39m, \u001b[39m1\u001b[39m)\n\u001b[1;32m    105\u001b[0m \u001b[39mreturn\u001b[39;00m pred\n",
      "File \u001b[0;32m<__array_function__ internals>:177\u001b[0m, in \u001b[0;36msum\u001b[0;34m(*args, **kwargs)\u001b[0m\n",
      "\u001b[0;31mKeyboardInterrupt\u001b[0m: "
     ]
    }
   ],
   "source": [
    "rf_fourier = Fourier(rf_fourier2.series, tolerance=1e-5)\n",
    "train_fourier_preds = rf_fourier.predict(train_ds[:][0].cpu().numpy())\n",
    "val_fourier_preds = rf_fourier.predict(val_ds[:][0].cpu().numpy())\n",
    "\n",
    "\n",
    "fourier_log = {\n",
    "        \"train_r2\": r2_score(train_ds[:][1].cpu().numpy(), train_fourier_preds),\n",
    "        \"val_r2\": r2_score(val_ds[:][1].cpu().numpy(), val_fourier_preds),\n",
    "        \"train_fourier_r2\": r2_score(train_pred, train_fourier_preds),\n",
    "        \"val_fourier_r2\": r2_score(val_pred, val_fourier_preds),\n",
    "    }\n",
    "\n",
    "print(fourier_log)"
   ]
  },
  {
   "attachments": {},
   "cell_type": "markdown",
   "metadata": {},
   "source": [
    "# Ablation Experiment"
   ]
  },
  {
   "cell_type": "code",
   "execution_count": 225,
   "metadata": {},
   "outputs": [],
   "source": [
    "fourier_seris = rf_fourier.series\n",
    "\n",
    "deg_list = np.array([(len(f), f) for f in fourier_seris.keys()])\n",
    "amp_list = np.array(list(fourier_seris.values()))\n",
    "argsort_freq = np.argsort(np.abs(amp_list))\n",
    "argsort_deg = np.argsort([(f_t[0], random.random()) for f_t in deg_list], axis=0)[:,0]"
   ]
  },
  {
   "cell_type": "code",
   "execution_count": 227,
   "metadata": {},
   "outputs": [
    {
     "name": "stdout",
     "output_type": "stream",
     "text": [
      "367 367\n",
      "348 348\n",
      "329 329\n",
      "309 309\n",
      "290 290\n",
      "271 271\n",
      "251 251\n",
      "232 232\n",
      "213 213\n",
      "193 193\n",
      "174 174\n",
      "155 155\n",
      "136 136\n",
      "116 116\n",
      "97 97\n",
      "78 78\n",
      "58 58\n",
      "39 39\n",
      "20 20\n"
     ]
    }
   ],
   "source": [
    "results = [{\n",
    "        \"Percentage of removed frequencies\": 0,\n",
    "        \"Higher degrees removed\": fourier_log[\"val_r2\"],\n",
    "        \"Lower amplitudes removed\": fourier_log[\"val_r2\"],\n",
    "    }]\n",
    "for deletion_percentage in range(5, 100, 5):\n",
    "    num_deletions = math.floor(len(deg_list) * deletion_percentage / 100)\n",
    "\n",
    "    # Remove high degrees\n",
    "    mask = argsort_deg[:-num_deletions]\n",
    "    new_freqs = [f_t[1] for f_t in deg_list[mask]]\n",
    "    new_amps = amp_list[mask]\n",
    "    new_fourier_deg = Fourier(dict(zip(new_freqs, new_amps)))\n",
    "\n",
    "    # Remove low amplitudes\n",
    "    mask = argsort_freq[num_deletions:]\n",
    "    new_freqs = [f_t[1] for f_t in deg_list[mask]]\n",
    "    new_amps = amp_list[mask]\n",
    "    new_fourier_amp = Fourier(dict(zip(new_freqs, new_amps)))\n",
    "\n",
    "    print(len(new_fourier_deg.series), len(new_fourier_amp.series))\n",
    "\n",
    "    deletion_log = {\n",
    "        \"Percentage of removed frequencies\": deletion_percentage,\n",
    "        \"Higher degrees removed\": r2_score(val_ds[:][1].cpu().numpy(), new_fourier_deg.predict(val_ds[:][0].cpu().numpy())),\n",
    "        \"Lower amplitudes removed\": r2_score(val_ds[:][1].cpu().numpy(), new_fourier_amp.predict(val_ds[:][0].cpu().numpy())),\n",
    "    }\n",
    "    \n",
    "    results.append(deletion_log)"
   ]
  },
  {
   "cell_type": "code",
   "execution_count": 228,
   "metadata": {},
   "outputs": [
    {
     "data": {
      "image/png": "[encoded data removed]",
      "text/plain": [
       "<Figure size 400x300 with 1 Axes>"
      ]
     },
     "metadata": {},
     "output_type": "display_data"
    }
   ],
   "source": [
    "fig, ax = plt.subplots(1, 1, figsize=(4, 3))\n",
    "sns.lineplot(pd.DataFrame.from_dict(results).set_index(\"Percentage of removed frequencies\"), ax=ax)\n",
    "ax.set_ylabel(\"Test $R^2$\")\n",
    "ax.legend(loc='lower left').set_zorder(102)\n",
    "fig.tight_layout()\n",
    "plt.savefig(f\"plots/files/ablation/{model_name}.pdf\")"
   ]
  },
  {
   "cell_type": "code",
   "execution_count": null,
   "metadata": {},
   "outputs": [],
   "source": []
  }
 ],
 "metadata": {
  "kernelspec": {
   "display_name": "whreg",
   "language": "python",
   "name": "python3"
  },
  "language_info": {
   "codemirror_mode": {
    "name": "ipython",
    "version": 3
   },
   "file_extension": ".py",
   "mimetype": "text/x-python",
   "name": "python",
   "nbconvert_exporter": "python",
   "pygments_lexer": "ipython3",
   "version": "3.10.6"
  },
  "vscode": {
   "interpreter": {
    "hash": "e0e09c149b78ae6c3cc201d292f2a056a171b25ffe3f79442a19c44aeb6df5d2"
   }
  }
 },
 "nbformat": 4,
 "nbformat_minor": 2
}
