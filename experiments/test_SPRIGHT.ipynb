{
 "cells": [
  {
   "cell_type": "code",
   "execution_count": 1,
   "metadata": {},
   "outputs": [],
   "source": [
    "import sys\n",
    "import os\n",
    "from pathlib import Path\n",
    "sys.path.append(str(Path.cwd().parent))\n",
    "\n",
    "import numpy as np\n",
    "import torch\n",
    "import matplotlib.pyplot as plt\n",
    "from sklearn.metrics import r2_score\n",
    "\n",
    "from epistatic_net.wht_sampling import SPRIGHTSample\n",
    "from epistatic_net.spright_utils import SPRIGHT, make_system_simple\n",
    "from datasets import FourierDataset"
   ]
  },
  {
   "cell_type": "markdown",
   "metadata": {},
   "source": [
    "# Test SPRIGHT algorithm"
   ]
  },
  {
   "cell_type": "code",
   "execution_count": 2,
   "metadata": {},
   "outputs": [],
   "source": [
    "data_n = 200\n",
    "data_k = 200\n",
    "data_d = 5\n",
    "data_n_samples = 100\n",
    "\n",
    "dataset = FourierDataset(n=data_n, k=data_k, d=data_d, n_samples=data_n_samples)"
   ]
  },
  {
   "cell_type": "code",
   "execution_count": 3,
   "metadata": {},
   "outputs": [
    {
     "name": "stdout",
     "output_type": "stream",
     "text": [
      "Loading SPRIGHT samples from cache ...\n",
      "(8, 200)\n",
      "1201 (200,)\n",
      "1201 (256, 200)\n",
      "total samples: 358400\n",
      "samples/ambient dimension: 2.2303286755854332e-55\n"
     ]
    }
   ],
   "source": [
    "spright_m = 8\n",
    "spright_d = 3\n",
    "\n",
    "spright_sample = SPRIGHTSample(data_n, spright_m, spright_d)\n",
    "print(spright_sample.sampling_matrices[0].shape)\n",
    "print(len(spright_sample.delay_matrices[0]), spright_sample.delay_matrices[0][0].shape)\n",
    "print(len(spright_sample.sampling_locations[0]), spright_sample.sampling_locations[0][0].shape)\n",
    "\n",
    "total_samples = (2**spright_m)*data_n*(spright_d*2+1)\n",
    "print('total samples: {}'.format(total_samples))\n",
    "\n",
    "print('samples/ambient dimension: {}'.format(total_samples/(2**data_n)))"
   ]
  },
  {
   "cell_type": "code",
   "execution_count": 4,
   "metadata": {},
   "outputs": [],
   "source": [
    "spright = SPRIGHT('frame', [1,2,3],spright_sample)"
   ]
  },
  {
   "cell_type": "code",
   "execution_count": 5,
   "metadata": {},
   "outputs": [
    {
     "name": "stdout",
     "output_type": "stream",
     "text": [
      "(922366, 200) (922368,) (922366,)\n"
     ]
    }
   ],
   "source": [
    "X_all = np.concatenate((np.vstack(spright_sample.sampling_locations[0]),np.vstack(spright_sample.sampling_locations[1]),np.vstack(spright_sample.sampling_locations[2])))\n",
    "X_all, X_all_inverse_ind = np.unique(X_all, axis=0, return_inverse='True')\n",
    "y_hat_all = dataset.compute_y(torch.from_numpy(X_all).float()).numpy()\n",
    "print(X_all.shape, X_all_inverse_ind.shape, y_hat_all.shape)\n",
    "\n",
    "spright.set_train_data(X_all, y_hat_all, X_all_inverse_ind)\n",
    "spright.model_to_remove = dataset.compute_y"
   ]
  },
  {
   "cell_type": "code",
   "execution_count": 6,
   "metadata": {},
   "outputs": [
    {
     "data": {
      "text/plain": [
       "True"
      ]
     },
     "execution_count": 6,
     "metadata": {},
     "output_type": "execute_result"
    }
   ],
   "source": [
    "flag = spright.initial_run()\n",
    "flag"
   ]
  },
  {
   "cell_type": "code",
   "execution_count": 7,
   "metadata": {},
   "outputs": [],
   "source": [
    "if flag:\n",
    "    spright.peel_rest()"
   ]
  },
  {
   "cell_type": "code",
   "execution_count": 8,
   "metadata": {},
   "outputs": [
    {
     "data": {
      "text/plain": [
       "(190, 200)"
      ]
     },
     "execution_count": 8,
     "metadata": {},
     "output_type": "execute_result"
    }
   ],
   "source": [
    "spright.model.support.shape"
   ]
  },
  {
   "cell_type": "code",
   "execution_count": 9,
   "metadata": {},
   "outputs": [
    {
     "data": {
      "text/plain": [
       "array([-0.80648135, -0.249206  ,  0.03825224,  0.17780295,  0.4494334 ,\n",
       "        0.37708214,  0.56539142,  0.12405929,  0.        ,  0.2658774 ,\n",
       "        0.6566655 , -0.30016956,  0.74267446,  0.12622902,  0.17125008,\n",
       "        0.29983136, -0.47769909,  0.21828967,  0.90598585,  0.        ,\n",
       "       -0.285008  ,  0.58495877,  0.15245997,  0.73243782,  0.07820443,\n",
       "       -0.24369992, -0.48432907, -0.11483389,  0.        , -0.28386448,\n",
       "       -0.04534004,  0.25199746, -0.21578812, -0.45663654, -0.10470216,\n",
       "        0.        ,  0.62818223,  0.89647289, -0.67458268,  0.1586621 ,\n",
       "       -0.82370262, -0.56226251,  0.14986253,  0.47955813, -0.62375613,\n",
       "       -0.02146116, -0.31199437,  0.06393513, -0.47464132, -0.55210664,\n",
       "        0.37918096,  0.80271826,  0.62862604, -0.07081426,  0.43335832,\n",
       "       -0.99616234,  0.55477262,  0.54046153, -0.71171709,  0.98413329,\n",
       "       -0.2211212 ,  0.7849796 , -0.58141274,  0.15581471, -0.64116682,\n",
       "       -0.58535729,  0.50974535,  0.08403472,  0.9448627 ,  0.23473484,\n",
       "       -0.10103674, -0.54127755, -0.48052712, -0.06044589, -0.93337571,\n",
       "       -0.0058518 ,  0.9409789 , -0.066637  , -0.34319157, -0.56476363,\n",
       "       -0.75833407,  0.63055257, -0.26113174, -0.94172465, -0.35338861,\n",
       "        0.        , -0.72110754,  0.85293704,  0.76659041, -0.88644334,\n",
       "       -0.87348314,  0.14316182,  0.37646945, -0.44659802,  0.        ,\n",
       "       -0.01783837, -0.57141344, -0.70361359,  0.21199404,  0.78057053,\n",
       "       -0.17867   , -0.45917351,  0.87270926, -0.00200756,  0.35578227,\n",
       "       -0.99212191, -0.45805432, -0.69169719, -0.76341795,  0.40751771,\n",
       "       -0.21905347, -0.27637799, -0.44108807, -0.21840385, -0.87917176,\n",
       "       -0.82873613,  0.41134809,  0.97140224, -0.47486031,  0.        ,\n",
       "       -0.16949363,  0.96710361,  0.7531461 , -0.14061384, -0.88417294,\n",
       "        0.75760935, -0.17527287,  0.16974077,  0.8868497 ,  0.79193219,\n",
       "       -0.70989127,  0.60170595, -0.53405637,  0.16179372, -0.24219271,\n",
       "       -0.47339469, -0.88539156, -0.772987  , -0.13601027, -0.96714086,\n",
       "        0.69105245,  0.62761745,  0.83095926,  0.51066926,  0.12577155,\n",
       "       -0.60259551, -0.02329323,  0.52456618,  0.67790155, -0.29769098,\n",
       "       -0.83508592,  0.72756203, -0.20881242,  0.06061983,  0.        ,\n",
       "       -0.88349159,  0.69877389, -0.96880027, -0.62410121,  0.1219997 ,\n",
       "       -0.23966123,  0.56928691,  0.86325647,  0.01163609,  0.24922527,\n",
       "        0.66458146,  0.64797552,  0.85236041,  0.43288285, -0.53341283,\n",
       "        0.99778294,  0.79010098,  0.37146311, -0.31911738, -0.93314526,\n",
       "       -0.05302267,  0.78855589, -0.4998857 ,  0.        ,  0.        ,\n",
       "       -0.51972051,  0.69615777,  0.31439578,  0.45997386,  0.63375553,\n",
       "        0.29837038, -0.13105871, -0.1688988 , -0.23871252,  0.03247679,\n",
       "       -0.70417847,  0.25079065,  0.35850221, -0.33637633,  0.95227177,\n",
       "       -0.81200048, -0.69139875, -0.02000467, -0.96266065, -0.58889787])"
      ]
     },
     "execution_count": 9,
     "metadata": {},
     "output_type": "execute_result"
    }
   ],
   "source": [
    "found_amps = np.zeros(dataset.freq_f.shape[0])\n",
    "found_freq_indices = [np.argmax(np.sum(dataset.freq_f.numpy() == found_freq, axis=1)) for found_freq in spright.model.support]\n",
    "found_amps[found_freq_indices] = spright.model.coef_*data_k\n",
    "found_amps"
   ]
  },
  {
   "cell_type": "code",
   "execution_count": 10,
   "metadata": {},
   "outputs": [
    {
     "name": "stdout",
     "output_type": "stream",
     "text": [
      "Percentage of found freqs: 0.95\n",
      "R2 of found freqs and real freqs: 0.9999874843629595\n",
      "R2 of considering all freqs: 0.9827462624049894\n"
     ]
    }
   ],
   "source": [
    "print(\"Percentage of found freqs:\", len(found_freq_indices) / dataset.amp_f.shape[0])\n",
    "print(\"R2 of found freqs and real freqs:\", r2_score(dataset.amp_f[found_freq_indices], found_amps[found_freq_indices]))\n",
    "print(\"R2 of considering all freqs:\", r2_score(dataset.amp_f, found_amps))"
   ]
  },
  {
   "cell_type": "code",
   "execution_count": 19,
   "metadata": {},
   "outputs": [
    {
     "data": {
      "text/plain": [
       "array([-4.39585879e-03, -3.60553771e-03, -2.92678646e-03, -2.85706718e-03,\n",
       "       -2.26700189e-04,  4.15479628e-03, -1.19830613e-03,  3.00852974e-03,\n",
       "        3.76573050e-03, -1.09526733e-03, -3.20583412e-03,  3.95050490e-03,\n",
       "       -4.83570430e-03, -2.37430153e-03,  7.62299828e-04,  3.14313021e-03,\n",
       "       -3.37291340e-03, -2.70638773e-03,  3.49386946e-03,  3.71337232e-03,\n",
       "        1.89590480e-03,  4.70489450e-03, -5.74169434e-04, -7.03069207e-04,\n",
       "        6.09998500e-04,  3.15276283e-03,  7.15809094e-04, -3.54945636e-03,\n",
       "       -1.41932238e-03, -4.96060953e-03, -1.07305820e-04,  1.05997020e-03,\n",
       "       -1.38188997e-03, -2.67028185e-03, -4.11851310e-03, -4.98081169e-03,\n",
       "       -2.49942848e-03,  1.88541071e-03,  3.83295203e-03,  1.62383968e-04,\n",
       "        4.36354630e-03,  7.79073547e-04,  3.78804674e-03,  3.92489802e-03,\n",
       "        2.54872677e-03,  3.91022173e-04,  8.89014755e-04, -4.66572628e-03,\n",
       "       -2.36697343e-03, -3.81708976e-03, -1.76694305e-03,  8.56250423e-04,\n",
       "        4.92066646e-03,  4.72431349e-03, -3.86493498e-03, -1.10560602e-03,\n",
       "        6.31145117e-04, -3.01297755e-03, -3.45848597e-03,  2.16679160e-03,\n",
       "        1.25395325e-03, -2.90706369e-03, -1.00378086e-05, -2.81131255e-03,\n",
       "       -1.42503999e-03, -2.29586757e-03, -4.17542962e-03, -1.00023326e-04,\n",
       "       -1.21849961e-03, -1.71595783e-03, -2.94448934e-03, -3.51806793e-03,\n",
       "        4.48236446e-03, -2.40263560e-03, -4.03240673e-03,  3.45526224e-03,\n",
       "        3.66218908e-03,  4.85701121e-03, -2.37320659e-03,  4.52992926e-03,\n",
       "        1.49185190e-03, -3.55858544e-03,  1.24612636e-03, -2.65113341e-04,\n",
       "        4.20173576e-04,  4.01359131e-03,  2.24716701e-03, -2.76053318e-03,\n",
       "        2.62283089e-03, -2.38849546e-03,  1.77891136e-03, -3.45699377e-03,\n",
       "       -1.04406210e-03,  3.23987759e-03, -3.02229459e-04,  3.14091116e-03,\n",
       "        3.48078884e-03,  2.70230767e-03, -1.19356260e-03,  2.05674047e-03,\n",
       "       -2.20544035e-03,  2.55334632e-03,  2.16441427e-03, -4.81330323e-03,\n",
       "        3.63781016e-03, -8.44494012e-04, -4.84400135e-03, -4.42695778e-03,\n",
       "       -1.21096355e-03,  4.43424849e-03,  3.19675637e-04,  3.94277943e-03,\n",
       "        2.77386310e-03, -1.07894062e-03,  2.39779063e-03, -4.36741571e-03,\n",
       "       -3.52089234e-03,  3.38950777e-03, -1.48845489e-03,  1.09144833e-03,\n",
       "       -2.29027159e-03,  1.25998731e-03,  3.16877766e-03, -6.80051343e-04,\n",
       "        6.28857751e-04, -8.47468125e-04,  4.26180207e-03, -2.92590248e-05,\n",
       "        8.08968595e-04,  4.31628235e-03,  2.82695710e-03, -2.23299012e-03,\n",
       "       -3.12050603e-03, -1.30565868e-03, -4.42086471e-03, -8.76364329e-04,\n",
       "        3.13808724e-03,  4.98891468e-03,  3.28332749e-03, -3.33184983e-04,\n",
       "        2.29986932e-03,  1.49915681e-03,  1.88234726e-03,  3.95966095e-03,\n",
       "       -2.42164533e-03, -8.93350023e-04, -5.05183682e-04,  1.57197890e-03,\n",
       "       -4.14368067e-03, -6.55293555e-04,  4.26468521e-03, -2.28318268e-03,\n",
       "        1.32938700e-03,  3.90285267e-03, -3.79167033e-03,  2.03758855e-03,\n",
       "        3.03099145e-04,  7.49312649e-04,  2.92479385e-03,  4.83551805e-03,\n",
       "        7.93310490e-04, -3.54071304e-04,  6.20296469e-04, -4.06000239e-03,\n",
       "        5.81804397e-05, -1.16466139e-04, -4.70862326e-03, -1.59558689e-03,\n",
       "       -2.82381814e-03, -1.50084782e-03,  1.91261214e-04, -1.68188164e-03,\n",
       "       -1.24602998e-03, -1.55997184e-03,  4.76135885e-03,  3.32290730e-03,\n",
       "       -5.23510821e-04,  2.84643453e-03, -8.91918726e-05,  1.85731554e-03,\n",
       "       -1.09201924e-03, -2.59860257e-03, -2.66706413e-03,  8.48703827e-04,\n",
       "        1.79251106e-03, -4.43221672e-03, -4.66687857e-03, -3.11878067e-03,\n",
       "       -4.41745795e-03,  1.17367418e-03])"
      ]
     },
     "execution_count": 19,
     "metadata": {},
     "output_type": "execute_result"
    }
   ],
   "source": [
    "spright.model.coef_"
   ]
  },
  {
   "cell_type": "code",
   "execution_count": null,
   "metadata": {},
   "outputs": [],
   "source": []
  }
 ],
 "metadata": {
  "kernelspec": {
   "display_name": "Python 3 (ipykernel)",
   "language": "python",
   "name": "python3"
  },
  "language_info": {
   "codemirror_mode": {
    "name": "ipython",
    "version": 3
   },
   "file_extension": ".py",
   "mimetype": "text/x-python",
   "name": "python",
   "nbconvert_exporter": "python",
   "pygments_lexer": "ipython3",
   "version": "3.10.6"
  },
  "vscode": {
   "interpreter": {
    "hash": "01d0f036a9d1bb5c37264df6cfdc4735c8bdfa2b68474f95afe9c6e9e6a644c3"
   }
  }
 },
 "nbformat": 4,
 "nbformat_minor": 2
}
