{
 "cells": [
  {
   "cell_type": "code",
   "execution_count": 1,
   "metadata": {},
   "outputs": [],
   "source": [
    "import sys\n",
    "import os\n",
    "from pathlib import Path\n",
    "sys.path.append(str(Path.cwd().parent))\n",
    "\n",
    "import numpy as np\n",
    "import torch\n",
    "import matplotlib.pyplot as plt\n",
    "from sklearn.metrics import r2_score\n",
    "\n",
    "from epistatic_net.wht_sampling import SPRIGHTSample\n",
    "from epistatic_net.spright_utils import SPRIGHT, make_system_simple\n",
    "from datasets import FourierDataset"
   ]
  },
  {
   "cell_type": "markdown",
   "metadata": {},
   "source": [
    "# Test SPRIGHT algorithm"
   ]
  },
  {
   "cell_type": "code",
   "execution_count": 2,
   "metadata": {},
   "outputs": [],
   "source": [
    "data_n = 200\n",
    "data_k = 200\n",
    "data_d = 5\n",
    "data_n_samples = 100\n",
    "\n",
    "dataset = FourierDataset(n=data_n, k=data_k, d=data_d, n_samples=data_n_samples)"
   ]
  },
  {
   "cell_type": "code",
   "execution_count": 3,
   "metadata": {},
   "outputs": [
    {
     "name": "stdout",
     "output_type": "stream",
     "text": [
      "(8, 200)\n",
      "1201 (200,)\n",
      "1201 (256, 200)\n",
      "total samples: 358400\n",
      "samples/ambient dimension: 2.2303286755854332e-55\n"
     ]
    }
   ],
   "source": [
    "spright_m = 8\n",
    "spright_d = 3\n",
    "\n",
    "spright_sample = SPRIGHTSample(data_n, spright_m, spright_d)\n",
    "print(spright_sample.sampling_matrices[0].shape)\n",
    "print(len(spright_sample.delay_matrices[0]), spright_sample.delay_matrices[0][0].shape)\n",
    "print(len(spright_sample.sampling_locations[0]), spright_sample.sampling_locations[0][0].shape)\n",
    "\n",
    "total_samples = (2**spright_m)*data_n*(spright_d*2+1)\n",
    "print('total samples: {}'.format(total_samples))\n",
    "\n",
    "print('samples/ambient dimension: {}'.format(total_samples/(2**data_n)))"
   ]
  },
  {
   "cell_type": "code",
   "execution_count": 4,
   "metadata": {},
   "outputs": [],
   "source": [
    "spright = SPRIGHT('frame', [1,2,3],spright_sample)"
   ]
  },
  {
   "cell_type": "code",
   "execution_count": 5,
   "metadata": {},
   "outputs": [
    {
     "name": "stdout",
     "output_type": "stream",
     "text": [
      "(922366, 200) (922368,) (922366,)\n"
     ]
    }
   ],
   "source": [
    "X_all = np.concatenate((np.vstack(spright_sample.sampling_locations[0]),np.vstack(spright_sample.sampling_locations[1]),np.vstack(spright_sample.sampling_locations[2])))\n",
    "X_all, X_all_inverse_ind = np.unique(X_all, axis=0, return_inverse='True')\n",
    "y_hat_all = dataset.compute_y(torch.from_numpy(X_all).float()).numpy()\n",
    "print(X_all.shape, X_all_inverse_ind.shape, y_hat_all.shape)\n",
    "\n",
    "spright.set_train_data(X_all, y_hat_all, X_all_inverse_ind)\n",
    "spright.model_to_remove = dataset.compute_y"
   ]
  },
  {
   "cell_type": "code",
   "execution_count": 6,
   "metadata": {},
   "outputs": [
    {
     "data": {
      "text/plain": [
       "True"
      ]
     },
     "execution_count": 6,
     "metadata": {},
     "output_type": "execute_result"
    }
   ],
   "source": [
    "flag = spright.initial_run()\n",
    "flag"
   ]
  },
  {
   "cell_type": "code",
   "execution_count": 7,
   "metadata": {},
   "outputs": [],
   "source": [
    "if flag:\n",
    "    spright.peel_rest()"
   ]
  },
  {
   "cell_type": "code",
   "execution_count": 8,
   "metadata": {},
   "outputs": [
    {
     "data": {
      "text/plain": [
       "(190, 200)"
      ]
     },
     "execution_count": 8,
     "metadata": {},
     "output_type": "execute_result"
    }
   ],
   "source": [
    "spright.model.support.shape"
   ]
  },
  {
   "cell_type": "code",
   "execution_count": 9,
   "metadata": {},
   "outputs": [
    {
     "data": {
      "text/plain": [
       "array([-0.80767821, -0.24989122,  0.03991397,  0.17922974,  0.45048793,\n",
       "        0.37700584,  0.56281895,  0.1232947 ,  0.        ,  0.26659153,\n",
       "        0.65697359, -0.30595934,  0.73987205,  0.12565336,  0.17574888,\n",
       "        0.30098752, -0.47693757,  0.21849275,  0.9044698 ,  0.        ,\n",
       "       -0.2861986 ,  0.58301283,  0.14891093,  0.73297334,  0.07759817,\n",
       "       -0.2436006 , -0.4879963 , -0.11644165,  0.        , -0.27953109,\n",
       "       -0.04768237,  0.25208081, -0.21553426, -0.45848361, -0.10546515,\n",
       "        0.        ,  0.62902249,  0.89911872, -0.6763244 ,  0.15905138,\n",
       "       -0.82272208, -0.56339664,  0.1504797 ,  0.47960584, -0.62257347,\n",
       "       -0.01968647, -0.30866317,  0.06312548, -0.47553044, -0.55452199,\n",
       "        0.38197763,  0.80498859,  0.63011212, -0.07034613,  0.43367547,\n",
       "       -0.99610964,  0.55303008,  0.53904387, -0.71114334,  0.98152852,\n",
       "       -0.21638109,  0.782087  , -0.58180268,  0.15220317, -0.64151367,\n",
       "       -0.58545986,  0.50842534,  0.07910379,  0.94658358,  0.2350121 ,\n",
       "       -0.09838913, -0.53732187, -0.4818238 , -0.06200002, -0.93340025,\n",
       "       -0.00362473,  0.93620521, -0.06584451, -0.34265517, -0.56364575,\n",
       "       -0.75581757,  0.63074269, -0.26201124, -0.93873239, -0.35494741,\n",
       "        0.        , -0.72380202,  0.85812334,  0.76584365, -0.8832596 ,\n",
       "       -0.87143321,  0.14607596,  0.37555314, -0.44615592,  0.        ,\n",
       "       -0.017164  , -0.57086246, -0.70574614,  0.20988083,  0.7805951 ,\n",
       "       -0.17726016, -0.4577111 ,  0.87501456, -0.00457366,  0.35716799,\n",
       "       -0.99644949, -0.45901917, -0.69109067, -0.76423656,  0.40725549,\n",
       "       -0.22247957, -0.27631258, -0.43853645, -0.21889197, -0.87614533,\n",
       "       -0.82867194,  0.41103499,  0.97055518, -0.47899793,  0.        ,\n",
       "       -0.16860073,  0.96714303,  0.75363486, -0.14251651, -0.88033336,\n",
       "        0.75748808, -0.17350015,  0.1696888 ,  0.88703217,  0.79068431,\n",
       "       -0.71177725,  0.60124097, -0.53626553,  0.15977603, -0.24505767,\n",
       "       -0.47425944, -0.88551399, -0.7747191 , -0.13669395, -0.96318921,\n",
       "        0.69362405,  0.62771522,  0.83186331,  0.51354457,  0.12404477,\n",
       "       -0.59986482, -0.0241852 ,  0.52441415,  0.6809021 , -0.30041786,\n",
       "       -0.83543967,  0.72679271, -0.20885073,  0.06045781,  0.        ,\n",
       "       -0.88106121,  0.69461884, -0.96826279, -0.62627048,  0.12157582,\n",
       "       -0.24031263,  0.57110312,  0.8664515 ,  0.01448522,  0.25233651,\n",
       "        0.66610002,  0.64731035,  0.85179075,  0.43226456, -0.53579505,\n",
       "        0.99777476,  0.78897408,  0.37332423, -0.31748194, -0.93152154,\n",
       "       -0.05454206,  0.78583867, -0.50135294,  0.        ,  0.        ,\n",
       "       -0.51740937,  0.69421592,  0.31213458,  0.46105266,  0.63495958,\n",
       "        0.29739309, -0.12852541, -0.16777908, -0.23824064,  0.03459789,\n",
       "       -0.70253404,  0.24548162,  0.35877556, -0.33293355,  0.95144128,\n",
       "       -0.80866005, -0.69417669, -0.02426997, -0.96473657, -0.59068686])"
      ]
     },
     "execution_count": 9,
     "metadata": {},
     "output_type": "execute_result"
    }
   ],
   "source": [
    "found_amps = np.zeros(dataset.freq_f.shape[0])\n",
    "found_freq_indices = [np.argmax(np.sum(dataset.freq_f.numpy() == found_freq, axis=1)) for found_freq in spright.model.support]\n",
    "found_amps[found_freq_indices] = spright.model.coef_*data_k\n",
    "found_amps"
   ]
  },
  {
   "cell_type": "code",
   "execution_count": 10,
   "metadata": {},
   "outputs": [
    {
     "name": "stdout",
     "output_type": "stream",
     "text": [
      "Percentage of found freqs: 0.95\n",
      "R2 of found freqs and real freqs: 0.9999880524537472\n",
      "R2 of considering all freqs: 0.9827468207168037\n"
     ]
    }
   ],
   "source": [
    "print(\"Percentage of found freqs:\", len(found_freq_indices) / dataset.amp_f.shape[0])\n",
    "print(\"R2 of found freqs and real freqs:\", r2_score(dataset.amp_f[found_freq_indices], found_amps[found_freq_indices]))\n",
    "print(\"R2 of considering all freqs:\", r2_score(dataset.amp_f, found_amps))"
   ]
  },
  {
   "cell_type": "code",
   "execution_count": null,
   "metadata": {},
   "outputs": [],
   "source": []
  }
 ],
 "metadata": {
  "kernelspec": {
   "display_name": "Python 3 (ipykernel)",
   "language": "python",
   "name": "python3"
  },
  "language_info": {
   "codemirror_mode": {
    "name": "ipython",
    "version": 3
   },
   "file_extension": ".py",
   "mimetype": "text/x-python",
   "name": "python",
   "nbconvert_exporter": "python",
   "pygments_lexer": "ipython3",
   "version": "3.10.6"
  },
  "vscode": {
   "interpreter": {
    "hash": "01d0f036a9d1bb5c37264df6cfdc4735c8bdfa2b68474f95afe9c6e9e6a644c3"
   }
  }
 },
 "nbformat": 4,
 "nbformat_minor": 2
}
