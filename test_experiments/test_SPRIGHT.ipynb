{
 "cells": [
  {
   "cell_type": "code",
   "execution_count": 93,
   "metadata": {},
   "outputs": [],
   "source": [
    "import sys\n",
    "import os\n",
    "from pathlib import Path\n",
    "sys.path.append(str(Path.cwd().parent))\n",
    "\n",
    "import numpy as np\n",
    "import torch\n",
    "import matplotlib.pyplot as plt\n",
    "from sklearn.metrics import r2_score\n",
    "\n",
    "from epistatic_net.wht_sampling import SPRIGHTSample\n",
    "from epistatic_net.spright_utils import SPRIGHT, make_system_simple\n",
    "from utils import FourierDataset"
   ]
  },
  {
   "cell_type": "code",
   "execution_count": 77,
   "metadata": {},
   "outputs": [],
   "source": [
    "spright_d = 3\n",
    "spright_m = 4\n",
    "\n",
    "data_n = 13\n",
    "data_k = 2**spright_m\n",
    "data_d = 5\n",
    "data_n_samples = 100\n",
    "\n",
    "dataset = FourierDataset(n=data_n, k=data_k, d=data_d, n_samples=data_n_samples)"
   ]
  },
  {
   "cell_type": "code",
   "execution_count": 78,
   "metadata": {},
   "outputs": [
    {
     "name": "stdout",
     "output_type": "stream",
     "text": [
      "- Loded cache/N13-m4-d3-seed0/sampling-matrix-2.p from cache (sampling matrix)\n",
      "- Loded cache/N13-m4-d3-seed0/sampling-matrix-1.p from cache (sampling matrix)\n",
      "- Loded cache/N13-m4-d3-seed0/sampling-matrix-0.p from cache (sampling matrix)\n",
      "- Loded cache/N13-m4-d3-seed0/delays-2.p from cache (delay matrix)\n",
      "- Loded cache/N13-m4-d3-seed0/delays-0.p from cache (delay matrix)\n",
      "- Loded cache/N13-m4-d3-seed0/delays-1.p from cache (delay matrix)\n",
      "- Loded cache/N13-m4-d3-seed0/sampling-locations-0.p from cache (samling location)\n",
      "- Loded cache/N13-m4-d3-seed0/sampling-locations-1.p from cache (samling location)\n",
      "- Loded cache/N13-m4-d3-seed0/sampling-locations-2.p from cache (samling location)\n"
     ]
    }
   ],
   "source": [
    "spright_sample = SPRIGHTSample(data_n, spright_m, spright_d)"
   ]
  },
  {
   "cell_type": "code",
   "execution_count": 79,
   "metadata": {},
   "outputs": [],
   "source": [
    "spright = SPRIGHT('frame', [1,2,3],spright_sample)"
   ]
  },
  {
   "cell_type": "code",
   "execution_count": 80,
   "metadata": {},
   "outputs": [
    {
     "name": "stdout",
     "output_type": "stream",
     "text": [
      "(3062, 13) (3792,) (3062,)\n"
     ]
    }
   ],
   "source": [
    "X_all = np.concatenate((np.vstack(spright_sample.sampling_locations[0]),np.vstack(spright_sample.sampling_locations[1]),np.vstack(spright_sample.sampling_locations[2])))\n",
    "X_all, X_all_inverse_ind = np.unique(X_all, axis=0, return_inverse='True')\n",
    "y_hat_all = dataset.compute_y(X_all).numpy()\n",
    "print(X_all.shape, X_all_inverse_ind.shape, y_hat_all.shape)\n",
    "\n",
    "spright.set_train_data(X_all, y_hat_all, X_all_inverse_ind)\n",
    "spright.model_to_remove = dataset.compute_y"
   ]
  },
  {
   "cell_type": "code",
   "execution_count": 81,
   "metadata": {},
   "outputs": [
    {
     "data": {
      "text/plain": [
       "True"
      ]
     },
     "execution_count": 81,
     "metadata": {},
     "output_type": "execute_result"
    }
   ],
   "source": [
    "flag = spright.initial_run()\n",
    "flag"
   ]
  },
  {
   "cell_type": "code",
   "execution_count": 82,
   "metadata": {},
   "outputs": [],
   "source": [
    "if flag:\n",
    "    spright.peel_rest()"
   ]
  },
  {
   "cell_type": "code",
   "execution_count": 83,
   "metadata": {},
   "outputs": [
    {
     "data": {
      "text/plain": [
       "(11, 13)"
      ]
     },
     "execution_count": 83,
     "metadata": {},
     "output_type": "execute_result"
    }
   ],
   "source": [
    "spright.model.support.shape"
   ]
  },
  {
   "cell_type": "code",
   "execution_count": 94,
   "metadata": {},
   "outputs": [
    {
     "data": {
      "text/plain": [
       "array([-0.74584536, -0.75940823,  0.        ,  0.90431971,  0.        ,\n",
       "       -0.50140492, -0.15087225,  0.        ,  0.4282222 ,  0.        ,\n",
       "        0.75691562, -0.83738433,  0.56431174,  0.28851532,  0.30091978,\n",
       "        0.        ])"
      ]
     },
     "execution_count": 94,
     "metadata": {},
     "output_type": "execute_result"
    }
   ],
   "source": [
    "found_amps = np.zeros(dataset.freq_f.shape[0])\n",
    "found_freq_indices = [np.argmax(np.sum(dataset.freq_f.numpy() == found_freq, axis=1)) for found_freq in spright.model.support]\n",
    "found_amps[found_freq_indices] = spright.model.coef_*data_k\n",
    "found_amps"
   ]
  },
  {
   "cell_type": "code",
   "execution_count": 96,
   "metadata": {},
   "outputs": [
    {
     "name": "stdout",
     "output_type": "stream",
     "text": [
      "Percentage of found freqs: 0.6875\n",
      "R2 of found freqs and real freqs: 0.8330591871765951\n"
     ]
    }
   ],
   "source": [
    "print(\"Percentage of found freqs:\", len(found_freq_indices) / dataset.amp_f.shape[0])\n",
    "print(\"R2 of found freqs and real freqs:\", r2_score(dataset.amp_f, found_amps))"
   ]
  },
  {
   "cell_type": "code",
   "execution_count": null,
   "metadata": {},
   "outputs": [],
   "source": []
  }
 ],
 "metadata": {
  "kernelspec": {
   "display_name": "Python 3.10.6 ('spectral')",
   "language": "python",
   "name": "python3"
  },
  "language_info": {
   "codemirror_mode": {
    "name": "ipython",
    "version": 3
   },
   "file_extension": ".py",
   "mimetype": "text/x-python",
   "name": "python",
   "nbconvert_exporter": "python",
   "pygments_lexer": "ipython3",
   "version": "3.10.6"
  },
  "orig_nbformat": 4,
  "vscode": {
   "interpreter": {
    "hash": "01d0f036a9d1bb5c37264df6cfdc4735c8bdfa2b68474f95afe9c6e9e6a644c3"
   }
  }
 },
 "nbformat": 4,
 "nbformat_minor": 2
}
