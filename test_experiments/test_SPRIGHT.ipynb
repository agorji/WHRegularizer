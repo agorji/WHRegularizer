{
 "cells": [
  {
   "cell_type": "code",
   "execution_count": 1,
   "metadata": {},
   "outputs": [
    {
     "name": "stderr",
     "output_type": "stream",
     "text": [
      "/local/agorji/minconda3/envs/spectral/lib/python3.10/site-packages/tqdm/auto.py:22: TqdmWarning: IProgress not found. Please update jupyter and ipywidgets. See https://ipywidgets.readthedocs.io/en/stable/user_install.html\n",
      "  from .autonotebook import tqdm as notebook_tqdm\n"
     ]
    }
   ],
   "source": [
    "import sys\n",
    "import os\n",
    "from pathlib import Path\n",
    "sys.path.append(str(Path.cwd().parent))\n",
    "\n",
    "import numpy as np\n",
    "import torch\n",
    "import matplotlib.pyplot as plt\n",
    "from sklearn.metrics import r2_score\n",
    "\n",
    "from epistatic_net.wht_sampling import SPRIGHTSample\n",
    "from epistatic_net.spright_utils import SPRIGHT, make_system_simple\n",
    "from utils import FourierDataset"
   ]
  },
  {
   "cell_type": "code",
   "execution_count": 12,
   "metadata": {},
   "outputs": [],
   "source": [
    "spright_d = 3\n",
    "spright_m = 5\n",
    "\n",
    "data_n = 25\n",
    "data_k = 2**spright_m\n",
    "data_d = 5\n",
    "data_n_samples = 100\n",
    "\n",
    "dataset = FourierDataset(n=data_n, k=data_k, d=data_d, n_samples=data_n_samples)"
   ]
  },
  {
   "cell_type": "code",
   "execution_count": 13,
   "metadata": {},
   "outputs": [
    {
     "name": "stdout",
     "output_type": "stream",
     "text": [
      "- Loded cache/N25-m5-d3-seed0/sampling-matrix-2.p from cache (sampling matrix)\n",
      "- Loded cache/N25-m5-d3-seed0/sampling-matrix-0.p from cache (sampling matrix)\n",
      "- Loded cache/N25-m5-d3-seed0/sampling-matrix-1.p from cache (sampling matrix)\n",
      "- Loded cache/N25-m5-d3-seed0/delays-2.p from cache (delay matrix)\n",
      "- Loded cache/N25-m5-d3-seed0/delays-1.p from cache (delay matrix)\n",
      "- Loded cache/N25-m5-d3-seed0/delays-0.p from cache (delay matrix)\n",
      "- Loded cache/N25-m5-d3-seed0/sampling-locations-2.p from cache (samling location)\n",
      "- Loded cache/N25-m5-d3-seed0/sampling-locations-0.p from cache (samling location)\n",
      "- Loded cache/N25-m5-d3-seed0/sampling-locations-1.p from cache (samling location)\n"
     ]
    }
   ],
   "source": [
    "spright_sample = SPRIGHTSample(data_n, spright_m, spright_d)"
   ]
  },
  {
   "cell_type": "code",
   "execution_count": 14,
   "metadata": {},
   "outputs": [],
   "source": [
    "spright = SPRIGHT('frame', [1,2,3],spright_sample)"
   ]
  },
  {
   "cell_type": "code",
   "execution_count": 15,
   "metadata": {},
   "outputs": [
    {
     "name": "stdout",
     "output_type": "stream",
     "text": [
      "(14492, 25) (14496,) (14492,)\n"
     ]
    }
   ],
   "source": [
    "X_all = np.concatenate((np.vstack(spright_sample.sampling_locations[0]),np.vstack(spright_sample.sampling_locations[1]),np.vstack(spright_sample.sampling_locations[2])))\n",
    "X_all, X_all_inverse_ind = np.unique(X_all, axis=0, return_inverse='True')\n",
    "y_hat_all = dataset.compute_y(X_all).numpy()\n",
    "print(X_all.shape, X_all_inverse_ind.shape, y_hat_all.shape)\n",
    "\n",
    "spright.set_train_data(X_all, y_hat_all, X_all_inverse_ind)\n",
    "spright.model_to_remove = dataset.compute_y"
   ]
  },
  {
   "cell_type": "code",
   "execution_count": 16,
   "metadata": {},
   "outputs": [
    {
     "data": {
      "text/plain": [
       "True"
      ]
     },
     "execution_count": 16,
     "metadata": {},
     "output_type": "execute_result"
    }
   ],
   "source": [
    "flag = spright.initial_run()\n",
    "flag"
   ]
  },
  {
   "cell_type": "code",
   "execution_count": 17,
   "metadata": {},
   "outputs": [],
   "source": [
    "if flag:\n",
    "    spright.peel_rest()"
   ]
  },
  {
   "cell_type": "code",
   "execution_count": 18,
   "metadata": {},
   "outputs": [
    {
     "data": {
      "text/plain": [
       "(29, 25)"
      ]
     },
     "execution_count": 18,
     "metadata": {},
     "output_type": "execute_result"
    }
   ],
   "source": [
    "spright.model.support.shape"
   ]
  },
  {
   "cell_type": "code",
   "execution_count": 19,
   "metadata": {},
   "outputs": [
    {
     "data": {
      "text/plain": [
       "array([ 0.83100438,  0.5102114 , -0.48533083,  0.        , -0.06299139,\n",
       "       -0.70023113, -0.09746977, -0.73933198,  0.03420725,  0.6426868 ,\n",
       "       -0.97603921,  0.17991741, -0.38687808, -0.4554383 , -0.61094019,\n",
       "       -0.87368608, -0.70157013, -0.33340202,  0.43164988,  0.4316573 ,\n",
       "        0.        ,  0.        ,  0.38160576, -0.80137256,  0.83749306,\n",
       "        0.59483401, -0.99849275, -0.9704108 ,  0.92420608,  0.55827206,\n",
       "       -0.58688168,  0.56860295])"
      ]
     },
     "execution_count": 19,
     "metadata": {},
     "output_type": "execute_result"
    }
   ],
   "source": [
    "found_amps = np.zeros(dataset.freq_f.shape[0])\n",
    "found_freq_indices = [np.argmax(np.sum(dataset.freq_f.numpy() == found_freq, axis=1)) for found_freq in spright.model.support]\n",
    "found_amps[found_freq_indices] = spright.model.coef_*data_k\n",
    "found_amps"
   ]
  },
  {
   "cell_type": "code",
   "execution_count": 20,
   "metadata": {},
   "outputs": [
    {
     "name": "stdout",
     "output_type": "stream",
     "text": [
      "Percentage of found freqs: 0.90625\n",
      "R2 of found freqs and real freqs: 0.9999633820757393\n",
      "R2 of considering all freqs: 0.9795496786936753\n"
     ]
    }
   ],
   "source": [
    "print(\"Percentage of found freqs:\", len(found_freq_indices) / dataset.amp_f.shape[0])\n",
    "print(\"R2 of found freqs and real freqs:\", r2_score(dataset.amp_f[found_freq_indices], found_amps[found_freq_indices]))\n",
    "print(\"R2 of considering all freqs:\", r2_score(dataset.amp_f, found_amps))"
   ]
  },
  {
   "cell_type": "code",
   "execution_count": null,
   "metadata": {},
   "outputs": [],
   "source": []
  }
 ],
 "metadata": {
  "kernelspec": {
   "display_name": "Python 3.10.6 ('spectral')",
   "language": "python",
   "name": "python3"
  },
  "language_info": {
   "codemirror_mode": {
    "name": "ipython",
    "version": 3
   },
   "file_extension": ".py",
   "mimetype": "text/x-python",
   "name": "python",
   "nbconvert_exporter": "python",
   "pygments_lexer": "ipython3",
   "version": "3.10.6"
  },
  "orig_nbformat": 4,
  "vscode": {
   "interpreter": {
    "hash": "01d0f036a9d1bb5c37264df6cfdc4735c8bdfa2b68474f95afe9c6e9e6a644c3"
   }
  }
 },
 "nbformat": 4,
 "nbformat_minor": 2
}
