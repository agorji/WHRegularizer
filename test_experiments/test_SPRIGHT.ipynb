{
 "cells": [
  {
   "cell_type": "code",
   "execution_count": 2,
   "metadata": {},
   "outputs": [],
   "source": [
    "import sys\n",
    "import os\n",
    "from pathlib import Path\n",
    "sys.path.append(str(Path.cwd().parent))\n",
    "\n",
    "import numpy as np\n",
    "import torch\n",
    "import matplotlib.pyplot as plt\n",
    "from sklearn.metrics import r2_score\n",
    "\n",
    "from epistatic_net.wht_sampling import SPRIGHTSample\n",
    "from epistatic_net.spright_utils import SPRIGHT, make_system_simple\n",
    "from datasets import FourierDataset"
   ]
  },
  {
   "cell_type": "markdown",
   "metadata": {},
   "source": [
    "# Test SPRIGHT algorithm"
   ]
  },
  {
   "cell_type": "code",
   "execution_count": 3,
   "metadata": {},
   "outputs": [],
   "source": [
    "spright_m = 6\n",
    "\n",
    "data_n = 25\n",
    "data_k = 2**spright_m\n",
    "data_d = 5\n",
    "data_n_samples = 100\n",
    "\n",
    "dataset = FourierDataset(n=data_n, k=data_k, d=data_d, n_samples=data_n_samples)"
   ]
  },
  {
   "cell_type": "code",
   "execution_count": 4,
   "metadata": {},
   "outputs": [
    {
     "name": "stdout",
     "output_type": "stream",
     "text": [
      "- Loded cache/N25-m6-d7-seed0/sampling-matrix-2.p from cache (sampling matrix)\n",
      "- Loded cache/N25-m6-d7-seed0/sampling-matrix-1.p from cache (sampling matrix)\n",
      "- Loded cache/N25-m6-d7-seed0/sampling-matrix-0.p from cache (sampling matrix)\n",
      "- Loded cache/N25-m6-d7-seed0/delays-0.p from cache (delay matrix)\n",
      "- Loded cache/N25-m6-d7-seed0/delays-1.p from cache (delay matrix)\n",
      "- Loded cache/N25-m6-d7-seed0/delays-2.p from cache (delay matrix)\n",
      "- Loded cache/N25-m6-d7-seed0/sampling-locations-2.p from cache (samling location)\n",
      "- Loded cache/N25-m6-d7-seed0/sampling-locations-1.p from cache (samling location)\n",
      "- Loded cache/N25-m6-d7-seed0/sampling-locations-0.p from cache (samling location)\n",
      "(6, 25)\n",
      "351 (25,)\n",
      "351 (64, 25)\n",
      "total samples: 24000\n",
      "samples/ambient dimension: 0.0007152557373046875\n"
     ]
    }
   ],
   "source": [
    "spright_d = 7\n",
    "\n",
    "spright_sample = SPRIGHTSample(data_n, spright_m, spright_d)\n",
    "print(spright_sample.sampling_matrices[0].shape)\n",
    "print(len(spright_sample.delay_matrices[0]), spright_sample.delay_matrices[0][0].shape)\n",
    "print(len(spright_sample.sampling_locations[0]), spright_sample.sampling_locations[0][0].shape)\n",
    "\n",
    "total_samples = (2**spright_m)*data_n*(spright_d*2+1)\n",
    "print('total samples: {}'.format(total_samples))\n",
    "\n",
    "print('samples/ambient dimension: {}'.format(total_samples/(2**data_n)))"
   ]
  },
  {
   "cell_type": "code",
   "execution_count": 5,
   "metadata": {},
   "outputs": [],
   "source": [
    "spright = SPRIGHT('frame', [1,2,3],spright_sample)"
   ]
  },
  {
   "cell_type": "code",
   "execution_count": 6,
   "metadata": {},
   "outputs": [
    {
     "name": "stdout",
     "output_type": "stream",
     "text": [
      "(67270, 25) (67392,) (67270,)\n"
     ]
    }
   ],
   "source": [
    "X_all = np.concatenate((np.vstack(spright_sample.sampling_locations[0]),np.vstack(spright_sample.sampling_locations[1]),np.vstack(spright_sample.sampling_locations[2])))\n",
    "X_all, X_all_inverse_ind = np.unique(X_all, axis=0, return_inverse='True')\n",
    "y_hat_all = dataset.compute_y(torch.from_numpy(X_all).float()).numpy()\n",
    "print(X_all.shape, X_all_inverse_ind.shape, y_hat_all.shape)\n",
    "\n",
    "spright.set_train_data(X_all, y_hat_all, X_all_inverse_ind)\n",
    "spright.model_to_remove = dataset.compute_y"
   ]
  },
  {
   "cell_type": "code",
   "execution_count": 7,
   "metadata": {},
   "outputs": [
    {
     "data": {
      "text/plain": [
       "True"
      ]
     },
     "execution_count": 7,
     "metadata": {},
     "output_type": "execute_result"
    }
   ],
   "source": [
    "flag = spright.initial_run()\n",
    "flag"
   ]
  },
  {
   "cell_type": "code",
   "execution_count": 8,
   "metadata": {},
   "outputs": [],
   "source": [
    "if flag:\n",
    "    spright.peel_rest()"
   ]
  },
  {
   "cell_type": "code",
   "execution_count": 9,
   "metadata": {},
   "outputs": [
    {
     "data": {
      "text/plain": [
       "(56, 25)"
      ]
     },
     "execution_count": 9,
     "metadata": {},
     "output_type": "execute_result"
    }
   ],
   "source": [
    "spright.model.support.shape"
   ]
  },
  {
   "cell_type": "code",
   "execution_count": 10,
   "metadata": {},
   "outputs": [
    {
     "data": {
      "text/plain": [
       "array([ 0.92097609, -0.35252892,  0.8016816 ,  0.18910937, -0.93928587,\n",
       "        0.32322738,  0.45761317, -0.02755043, -0.16505679, -0.55105776,\n",
       "       -0.77345865, -0.68703681,  0.71299566,  0.88221974,  0.04493178,\n",
       "        0.44608153, -0.50255522,  0.95583203,  0.        , -0.58544415,\n",
       "       -0.54935235,  1.14704513, -0.11968114, -0.77372629,  0.        ,\n",
       "        0.        ,  0.97405563, -0.71225116, -0.54562178,  0.        ,\n",
       "       -0.02304042,  0.14881217,  0.27535573, -0.73424716,  0.23681441,\n",
       "       -0.53149324,  0.98077892, -0.42322467, -0.65962634, -0.61327475,\n",
       "       -0.01105803, -0.70831273, -0.36730334,  0.        ,  0.80031969,\n",
       "        0.        ,  0.21025709, -0.05268596,  0.96001737, -0.08517527,\n",
       "        0.86512474, -0.6444383 ,  0.28956651, -0.60469727, -0.81127916,\n",
       "       -0.83717781,  0.72100954, -0.16763071,  0.        ,  0.        ,\n",
       "        0.48552131,  0.22305477,  0.18692622, -0.06070981])"
      ]
     },
     "execution_count": 10,
     "metadata": {},
     "output_type": "execute_result"
    }
   ],
   "source": [
    "found_amps = np.zeros(dataset.freq_f.shape[0])\n",
    "found_freq_indices = [np.argmax(np.sum(dataset.freq_f.numpy() == found_freq, axis=1)) for found_freq in spright.model.support]\n",
    "found_amps[found_freq_indices] = spright.model.coef_*data_k\n",
    "found_amps"
   ]
  },
  {
   "cell_type": "code",
   "execution_count": 11,
   "metadata": {},
   "outputs": [
    {
     "name": "stdout",
     "output_type": "stream",
     "text": [
      "Percentage of found freqs: 0.875\n",
      "R2 of found freqs and real freqs: 0.9700787962435677\n",
      "R2 of considering all freqs: 0.9172287651781538\n"
     ]
    }
   ],
   "source": [
    "print(\"Percentage of found freqs:\", len(found_freq_indices) / dataset.amp_f.shape[0])\n",
    "print(\"R2 of found freqs and real freqs:\", r2_score(dataset.amp_f[found_freq_indices], found_amps[found_freq_indices]))\n",
    "print(\"R2 of considering all freqs:\", r2_score(dataset.amp_f, found_amps))"
   ]
  },
  {
   "cell_type": "code",
   "execution_count": null,
   "metadata": {},
   "outputs": [],
   "source": []
  }
 ],
 "metadata": {
  "kernelspec": {
   "display_name": "Python 3.10.6 ('spectral')",
   "language": "python",
   "name": "python3"
  },
  "language_info": {
   "codemirror_mode": {
    "name": "ipython",
    "version": 3
   },
   "file_extension": ".py",
   "mimetype": "text/x-python",
   "name": "python",
   "nbconvert_exporter": "python",
   "pygments_lexer": "ipython3",
   "version": "3.10.6"
  },
  "orig_nbformat": 4,
  "vscode": {
   "interpreter": {
    "hash": "01d0f036a9d1bb5c37264df6cfdc4735c8bdfa2b68474f95afe9c6e9e6a644c3"
   }
  }
 },
 "nbformat": 4,
 "nbformat_minor": 2
}
